{
 "cells": [
  {
   "cell_type": "markdown",
   "metadata": {},
   "source": [
    "# Word Variants - French\n",
    "\n",
    "This notebook will prepare the lookups for word variants and roots. \n",
    "\n",
    "The data was collected following this procedure: https://github.com/hbenbel/French-Dictionary, using the source of kaikki.org/dictionary/French/index.html"
   ]
  },
  {
   "cell_type": "code",
   "execution_count": 32,
   "metadata": {},
   "outputs": [],
   "source": [
    "import pandas as pd\n",
    "from tqdm import tqdm\n",
    "import numpy as np\n",
    "import math"
   ]
  },
  {
   "cell_type": "code",
   "execution_count": 59,
   "metadata": {},
   "outputs": [],
   "source": [
    "rawPath = \"../../../RawData/Variants/French/hbenbel/\""
   ]
  },
  {
   "cell_type": "code",
   "execution_count": 61,
   "metadata": {},
   "outputs": [],
   "source": [
    "rawJSON = pd.read_json(\"../../../RawData/Variants/French/kaikki.org-dictionary-French.json\", lines=True)"
   ]
  },
  {
   "cell_type": "code",
   "execution_count": 82,
   "metadata": {},
   "outputs": [],
   "source": [
    "rawJSON = rawJSON[[\"word\",\"senses\",\"forms\"]]"
   ]
  },
  {
   "cell_type": "markdown",
   "metadata": {},
   "source": [
    "## Getting variants\n",
    "\n",
    "We see that the tags are `form-of` or `alt-of` for variants, then if we grab the first link, it will go there (will need to do some checking"
   ]
  },
  {
   "cell_type": "code",
   "execution_count": 65,
   "metadata": {},
   "outputs": [
    {
     "data": {
      "text/plain": [
       "{'links': [['avoir', 'avoir#French']],\n",
       " 'glosses': ['past participle of avoir'],\n",
       " 'tags': ['form-of', 'participle', 'past'],\n",
       " 'form_of': [{'word': 'avoir'}],\n",
       " 'id': 'eu-fr-verb-FnRNr-Pp',\n",
       " 'categories': []}"
      ]
     },
     "execution_count": 65,
     "metadata": {},
     "output_type": "execute_result"
    }
   ],
   "source": [
    "rawJSON[rawJSON.word == \"eu\"][\"senses\"][1692][0]"
   ]
  },
  {
   "cell_type": "code",
   "execution_count": 64,
   "metadata": {},
   "outputs": [
    {
     "data": {
      "text/plain": [
       "[{'form': 'eue', 'tags': ['feminine']},\n",
       " {'form': 'eus', 'tags': ['masculine', 'plural']},\n",
       " {'form': 'eues', 'tags': ['feminine', 'plural']}]"
      ]
     },
     "execution_count": 64,
     "metadata": {},
     "output_type": "execute_result"
    }
   ],
   "source": [
    "rawJSON[rawJSON.word == \"eu\"][\"forms\"][1692]"
   ]
  },
  {
   "cell_type": "code",
   "execution_count": 71,
   "metadata": {},
   "outputs": [
    {
     "data": {
      "text/plain": [
       "[{'links': [['eu', 'eu#French']],\n",
       "  'glosses': ['feminine singular of eu'],\n",
       "  'tags': ['feminine', 'form-of', 'participle', 'singular'],\n",
       "  'form_of': [{'word': 'eu'}],\n",
       "  'id': 'eue-fr-verb-g2BJqgFA',\n",
       "  'categories': []}]"
      ]
     },
     "execution_count": 71,
     "metadata": {},
     "output_type": "execute_result"
    }
   ],
   "source": [
    "rawJSON[rawJSON.word == \"eue\"][\"senses\"][91186]"
   ]
  },
  {
   "cell_type": "code",
   "execution_count": 89,
   "metadata": {},
   "outputs": [
    {
     "data": {
      "text/plain": [
       "[{'form': 'eue', 'tags': ['feminine']},\n",
       " {'form': 'eus', 'tags': ['masculine', 'plural']},\n",
       " {'form': 'eues', 'tags': ['feminine', 'plural']}]"
      ]
     },
     "execution_count": 89,
     "metadata": {},
     "output_type": "execute_result"
    }
   ],
   "source": [
    "rawJSON[rawJSON.word == \"eu\"][\"forms\"][1692]"
   ]
  },
  {
   "cell_type": "code",
   "execution_count": 96,
   "metadata": {},
   "outputs": [
    {
     "data": {
      "text/plain": [
       "'eu'"
      ]
     },
     "execution_count": 96,
     "metadata": {},
     "output_type": "execute_result"
    }
   ],
   "source": [
    "rawJSON[rawJSON.word == \"eue\"][\"senses\"][91186][0][\"links\"][0][0]"
   ]
  },
  {
   "cell_type": "code",
   "execution_count": 54,
   "metadata": {},
   "outputs": [
    {
     "data": {
      "text/plain": [
       "['alt-of', 'masculine', 'nonstandard']"
      ]
     },
     "execution_count": 54,
     "metadata": {},
     "output_type": "execute_result"
    }
   ],
   "source": [
    "rawJSON[rawJSON.word == \"oeufs\"][\"senses\"][149408][0][\"tags\"]"
   ]
  },
  {
   "cell_type": "code",
   "execution_count": 113,
   "metadata": {},
   "outputs": [
    {
     "data": {
      "text/plain": [
       "[['œufs', 'œufs#French']]"
      ]
     },
     "execution_count": 113,
     "metadata": {},
     "output_type": "execute_result"
    }
   ],
   "source": [
    "rawJSON[rawJSON.word == \"oeufs\"][\"senses\"][149408][0][\"links\"]"
   ]
  },
  {
   "cell_type": "code",
   "execution_count": 53,
   "metadata": {},
   "outputs": [
    {
     "data": {
      "text/plain": [
       "['form-of', 'masculine', 'plural']"
      ]
     },
     "execution_count": 53,
     "metadata": {},
     "output_type": "execute_result"
    }
   ],
   "source": [
    "rawJSON[rawJSON.word == \"œufs\"][\"senses\"][84185][0][\"tags\"]"
   ]
  },
  {
   "cell_type": "code",
   "execution_count": 79,
   "metadata": {},
   "outputs": [
    {
     "data": {
      "text/plain": [
       "{'examples': [{'text': 'Near-synonym: posséder'},\n",
       "  {'text': 'J’aimerais avoir 20 dollars.',\n",
       "   'english': 'I would like to have 20 dollars.',\n",
       "   'type': 'example'}],\n",
       " 'links': [['have', 'have']],\n",
       " 'raw_glosses': ['(transitive) to have (to own; to possess)'],\n",
       " 'glosses': ['to have (to own; to possess)'],\n",
       " 'tags': ['transitive'],\n",
       " 'id': 'avoir-fr-verb-3fPpXyVX',\n",
       " 'categories': []}"
      ]
     },
     "execution_count": 79,
     "metadata": {},
     "output_type": "execute_result"
    }
   ],
   "source": [
    "rawJSON[rawJSON.word == \"avoir\"][\"senses\"][1361][0]"
   ]
  },
  {
   "cell_type": "code",
   "execution_count": 81,
   "metadata": {},
   "outputs": [
    {
     "data": {
      "text/plain": [
       "[{'links': [['avoir', 'avoir#French']],\n",
       "  'glosses': ['third-person singular present subjunctive of avoir'],\n",
       "  'tags': ['form-of', 'present', 'singular', 'subjunctive', 'third-person'],\n",
       "  'form_of': [{'word': 'avoir'}],\n",
       "  'id': 'ait-fr-verb-bnz7GJlw',\n",
       "  'categories': []}]"
      ]
     },
     "execution_count": 81,
     "metadata": {},
     "output_type": "execute_result"
    }
   ],
   "source": [
    "rawJSON[rawJSON.word == \"ait\"][\"senses\"][8483]"
   ]
  },
  {
   "cell_type": "code",
   "execution_count": null,
   "metadata": {},
   "outputs": [],
   "source": []
  },
  {
   "cell_type": "markdown",
   "metadata": {},
   "source": [
    "## variant mapper function"
   ]
  },
  {
   "cell_type": "code",
   "execution_count": 144,
   "metadata": {},
   "outputs": [],
   "source": [
    "def variantMapper(row):\n",
    "    word = row[\"word\"]\n",
    "    \n",
    "    if (not (\"tags\" in row[\"senses\"][0] and \"links\" in row[\"senses\"][0])):\n",
    "        return {\"Variant\" : word, \"Root\" : word}\n",
    "    \n",
    "    tags = row[\"senses\"][0][\"tags\"] \n",
    "    isVariant = \"form-of\" in tags or \"alt-of\" in tags\n",
    "    if isVariant:\n",
    "        root = row[\"senses\"][0][\"links\"][0][0]\n",
    "    else:\n",
    "        root = word\n",
    "    return {\"Variant\" : word, \"Root\" : root}"
   ]
  },
  {
   "cell_type": "code",
   "execution_count": 145,
   "metadata": {},
   "outputs": [
    {
     "data": {
      "text/plain": [
       "{'Variant': 'oeufs', 'Root': 'œufs'}"
      ]
     },
     "execution_count": 145,
     "metadata": {},
     "output_type": "execute_result"
    }
   ],
   "source": [
    "variantMapper(rawJSON.iloc[149408])"
   ]
  },
  {
   "cell_type": "code",
   "execution_count": 146,
   "metadata": {},
   "outputs": [
    {
     "data": {
      "text/plain": [
       "{'Variant': 'avoir', 'Root': 'avoir'}"
      ]
     },
     "execution_count": 146,
     "metadata": {},
     "output_type": "execute_result"
    }
   ],
   "source": [
    "variantMapper(rawJSON.iloc[1361])"
   ]
  },
  {
   "cell_type": "code",
   "execution_count": 147,
   "metadata": {},
   "outputs": [
    {
     "data": {
      "text/plain": [
       "{'Variant': 'eue', 'Root': 'eu'}"
      ]
     },
     "execution_count": 147,
     "metadata": {},
     "output_type": "execute_result"
    }
   ],
   "source": [
    "variantMapper(rawJSON.iloc[91186])"
   ]
  },
  {
   "cell_type": "code",
   "execution_count": 148,
   "metadata": {},
   "outputs": [
    {
     "data": {
      "text/plain": [
       "{'Variant': 'eu', 'Root': 'avoir'}"
      ]
     },
     "execution_count": 148,
     "metadata": {},
     "output_type": "execute_result"
    }
   ],
   "source": [
    "variantMapper(rawJSON.iloc[1692])"
   ]
  },
  {
   "cell_type": "code",
   "execution_count": 141,
   "metadata": {},
   "outputs": [
    {
     "data": {
      "text/plain": [
       "{'Variant': 'ablactation', 'Root': 'ablactation'}"
      ]
     },
     "execution_count": 141,
     "metadata": {},
     "output_type": "execute_result"
    }
   ],
   "source": [
    "variantMapper(rawJSON.iloc[8])"
   ]
  },
  {
   "cell_type": "code",
   "execution_count": 149,
   "metadata": {},
   "outputs": [
    {
     "data": {
      "text/plain": [
       "{'Variant': 'latin', 'Root': 'latin'}"
      ]
     },
     "execution_count": 149,
     "metadata": {},
     "output_type": "execute_result"
    }
   ],
   "source": [
    "variantMapper(rawJSON.iloc[375])"
   ]
  },
  {
   "cell_type": "markdown",
   "metadata": {},
   "source": [
    "## Note:\n",
    "\n",
    "see that we have now essentially created a tree structure (assuming that no words are variants of each other), we should traverse this so that every word either is a variant or a root"
   ]
  },
  {
   "cell_type": "markdown",
   "metadata": {},
   "source": [
    "## Generate root/variant tree (arbitrary depth)"
   ]
  },
  {
   "cell_type": "code",
   "execution_count": 150,
   "metadata": {},
   "outputs": [
    {
     "name": "stderr",
     "output_type": "stream",
     "text": [
      "100%|███████████████████████████████████████████████████████████████████████| 392163/392163 [00:35<00:00, 10965.52it/s]\n"
     ]
    }
   ],
   "source": [
    "tqdm.pandas()\n",
    "rawMap = rawJSON.dropna(subset=['word']).progress_apply(variantMapper, axis = 1)"
   ]
  },
  {
   "cell_type": "code",
   "execution_count": 156,
   "metadata": {},
   "outputs": [],
   "source": [
    "rawdf = pd.DataFrame.from_records(rawMap)"
   ]
  },
  {
   "cell_type": "code",
   "execution_count": 159,
   "metadata": {},
   "outputs": [
    {
     "data": {
      "text/html": [
       "<div>\n",
       "<style scoped>\n",
       "    .dataframe tbody tr th:only-of-type {\n",
       "        vertical-align: middle;\n",
       "    }\n",
       "\n",
       "    .dataframe tbody tr th {\n",
       "        vertical-align: top;\n",
       "    }\n",
       "\n",
       "    .dataframe thead th {\n",
       "        text-align: right;\n",
       "    }\n",
       "</style>\n",
       "<table border=\"1\" class=\"dataframe\">\n",
       "  <thead>\n",
       "    <tr style=\"text-align: right;\">\n",
       "      <th></th>\n",
       "      <th>Variant</th>\n",
       "      <th>Root</th>\n",
       "    </tr>\n",
       "  </thead>\n",
       "  <tbody>\n",
       "    <tr>\n",
       "      <th>298916</th>\n",
       "      <td>bitcoins</td>\n",
       "      <td>bitcoin</td>\n",
       "    </tr>\n",
       "    <tr>\n",
       "      <th>23339</th>\n",
       "      <td>borderai</td>\n",
       "      <td>border</td>\n",
       "    </tr>\n",
       "    <tr>\n",
       "      <th>145270</th>\n",
       "      <td>intimidaient</td>\n",
       "      <td>intimider</td>\n",
       "    </tr>\n",
       "    <tr>\n",
       "      <th>337384</th>\n",
       "      <td>sérançassions</td>\n",
       "      <td>sérancer</td>\n",
       "    </tr>\n",
       "    <tr>\n",
       "      <th>112681</th>\n",
       "      <td>scintillâmes</td>\n",
       "      <td>scintiller</td>\n",
       "    </tr>\n",
       "    <tr>\n",
       "      <th>278150</th>\n",
       "      <td>taquineries</td>\n",
       "      <td>taquinerie</td>\n",
       "    </tr>\n",
       "    <tr>\n",
       "      <th>197123</th>\n",
       "      <td>répudiâtes</td>\n",
       "      <td>répudier</td>\n",
       "    </tr>\n",
       "    <tr>\n",
       "      <th>136629</th>\n",
       "      <td>survêtît</td>\n",
       "      <td>survêtir</td>\n",
       "    </tr>\n",
       "    <tr>\n",
       "      <th>268250</th>\n",
       "      <td>homœomorphisme</td>\n",
       "      <td>homéomorphisme</td>\n",
       "    </tr>\n",
       "    <tr>\n",
       "      <th>137002</th>\n",
       "      <td>recuirai</td>\n",
       "      <td>recuirer</td>\n",
       "    </tr>\n",
       "  </tbody>\n",
       "</table>\n",
       "</div>"
      ],
      "text/plain": [
       "               Variant            Root\n",
       "298916        bitcoins         bitcoin\n",
       "23339         borderai          border\n",
       "145270    intimidaient       intimider\n",
       "337384   sérançassions        sérancer\n",
       "112681    scintillâmes      scintiller\n",
       "278150     taquineries      taquinerie\n",
       "197123      répudiâtes        répudier\n",
       "136629        survêtît        survêtir\n",
       "268250  homœomorphisme  homéomorphisme\n",
       "137002        recuirai        recuirer"
      ]
     },
     "execution_count": 159,
     "metadata": {},
     "output_type": "execute_result"
    }
   ],
   "source": [
    "rawdf[rawdf.Variant != rawdf.Root].sample(10)"
   ]
  },
  {
   "cell_type": "markdown",
   "metadata": {},
   "source": [
    "## normalise so has depth 1\n",
    "\n",
    "right now a \"variant chain\" can form, lets fix that, we set a recursive limit as there might be some circular roots, we'll ignore those for now"
   ]
  },
  {
   "cell_type": "code",
   "execution_count": 222,
   "metadata": {},
   "outputs": [
    {
     "name": "stderr",
     "output_type": "stream",
     "text": [
      "100%|███████████████████████████████████████████████████████████████████████| 392163/392163 [00:07<00:00, 52964.11it/s]\n"
     ]
    }
   ],
   "source": [
    "def create_variant_root_map(df):\n",
    "    return df.set_index('Variant')['Root'].to_dict()\n",
    "\n",
    "def find_ultimate_root(row, variant_root_map, max_depth=1000):\n",
    "    variant = row['Variant']\n",
    "    root = variant_root_map.get(variant, variant)\n",
    "    \n",
    "    depth = 0\n",
    "    while root != variant and root in variant_root_map:\n",
    "        if depth > max_depth:\n",
    "            root = variant  # Set root equal to variant to break the loop\n",
    "            break\n",
    "        variant = root\n",
    "        root = variant_root_map[variant]\n",
    "        depth += 1\n",
    "    \n",
    "    return root\n",
    "\n",
    "# Create the mapping dictionary\n",
    "variant_root_map = create_variant_root_map(rawdf)\n",
    "\n",
    "# Apply the function to each variant in the DataFrame with a max depth limit\n",
    "rawdf['Ultimate_root'] = rawdf.progress_apply(lambda row: find_ultimate_root(row, variant_root_map, 1000), axis=1)"
   ]
  },
  {
   "cell_type": "code",
   "execution_count": 223,
   "metadata": {},
   "outputs": [
    {
     "data": {
      "text/plain": [
       "'servir'"
      ]
     },
     "execution_count": 223,
     "metadata": {},
     "output_type": "execute_result"
    }
   ],
   "source": [
    "variant_root_map[\"servir\"]"
   ]
  },
  {
   "cell_type": "code",
   "execution_count": 224,
   "metadata": {},
   "outputs": [
    {
     "name": "stderr",
     "output_type": "stream",
     "text": [
      "<ipython-input-224-4986a581fd82>:1: UserWarning: Boolean Series key will be reindexed to match DataFrame index.\n",
      "  rawdf[rawdf.Variant != rawdf.Root][rawdf.Root != rawdf.Ultimate_root]\n"
     ]
    },
    {
     "data": {
      "text/html": [
       "<div>\n",
       "<style scoped>\n",
       "    .dataframe tbody tr th:only-of-type {\n",
       "        vertical-align: middle;\n",
       "    }\n",
       "\n",
       "    .dataframe tbody tr th {\n",
       "        vertical-align: top;\n",
       "    }\n",
       "\n",
       "    .dataframe thead th {\n",
       "        text-align: right;\n",
       "    }\n",
       "</style>\n",
       "<table border=\"1\" class=\"dataframe\">\n",
       "  <thead>\n",
       "    <tr style=\"text-align: right;\">\n",
       "      <th></th>\n",
       "      <th>Variant</th>\n",
       "      <th>Root</th>\n",
       "      <th>Ultimate_root</th>\n",
       "    </tr>\n",
       "  </thead>\n",
       "  <tbody>\n",
       "    <tr>\n",
       "      <th>53</th>\n",
       "      <td>acceptant</td>\n",
       "      <td>accepter</td>\n",
       "      <td>acceptant</td>\n",
       "    </tr>\n",
       "    <tr>\n",
       "      <th>85</th>\n",
       "      <td>tables</td>\n",
       "      <td>table</td>\n",
       "      <td>tabler</td>\n",
       "    </tr>\n",
       "    <tr>\n",
       "      <th>97</th>\n",
       "      <td>représentant</td>\n",
       "      <td>représenter</td>\n",
       "      <td>représentant</td>\n",
       "    </tr>\n",
       "    <tr>\n",
       "      <th>155</th>\n",
       "      <td>servant</td>\n",
       "      <td>servir</td>\n",
       "      <td>servant</td>\n",
       "    </tr>\n",
       "    <tr>\n",
       "      <th>194</th>\n",
       "      <td>Philippines</td>\n",
       "      <td>Philippine</td>\n",
       "      <td>Philippin</td>\n",
       "    </tr>\n",
       "    <tr>\n",
       "      <th>...</th>\n",
       "      <td>...</td>\n",
       "      <td>...</td>\n",
       "      <td>...</td>\n",
       "    </tr>\n",
       "    <tr>\n",
       "      <th>391802</th>\n",
       "      <td>streamée</td>\n",
       "      <td>streamé</td>\n",
       "      <td>streamer</td>\n",
       "    </tr>\n",
       "    <tr>\n",
       "      <th>391807</th>\n",
       "      <td>streameurs</td>\n",
       "      <td>streameur</td>\n",
       "      <td>streamer</td>\n",
       "    </tr>\n",
       "    <tr>\n",
       "      <th>391908</th>\n",
       "      <td>Beauzelly</td>\n",
       "      <td>Bauzély</td>\n",
       "      <td>Baudile</td>\n",
       "    </tr>\n",
       "    <tr>\n",
       "      <th>391996</th>\n",
       "      <td>-ités</td>\n",
       "      <td>-ité</td>\n",
       "      <td>-té</td>\n",
       "    </tr>\n",
       "    <tr>\n",
       "      <th>392093</th>\n",
       "      <td>troisiémes</td>\n",
       "      <td>troisiéme</td>\n",
       "      <td>troisième</td>\n",
       "    </tr>\n",
       "  </tbody>\n",
       "</table>\n",
       "<p>25483 rows × 3 columns</p>\n",
       "</div>"
      ],
      "text/plain": [
       "             Variant         Root Ultimate_root\n",
       "53         acceptant     accepter     acceptant\n",
       "85            tables        table        tabler\n",
       "97      représentant  représenter  représentant\n",
       "155          servant       servir       servant\n",
       "194      Philippines   Philippine     Philippin\n",
       "...              ...          ...           ...\n",
       "391802      streamée      streamé      streamer\n",
       "391807    streameurs    streameur      streamer\n",
       "391908     Beauzelly      Bauzély       Baudile\n",
       "391996         -ités         -ité           -té\n",
       "392093    troisiémes    troisiéme     troisième\n",
       "\n",
       "[25483 rows x 3 columns]"
      ]
     },
     "execution_count": 224,
     "metadata": {},
     "output_type": "execute_result"
    }
   ],
   "source": [
    "rawdf[rawdf.Variant != rawdf.Root][rawdf.Root != rawdf.Ultimate_root]"
   ]
  },
  {
   "cell_type": "markdown",
   "metadata": {},
   "source": [
    "## A problem\n",
    "\n",
    "We see a problem, in that some circular ultimate roots have appeared, whilst a more in depth treamtment could get to the bottom of what is going on here... for now we'll just use the original root, at that seems to be useful in the cases we care about."
   ]
  },
  {
   "cell_type": "code",
   "execution_count": 245,
   "metadata": {},
   "outputs": [],
   "source": [
    "rawdf[\"MaybeBad1\"] = rawdf.Root != rawdf.Ultimate_root \n",
    "rawdf[\"MaybeBad2\"] = rawdf.Variant == rawdf.Ultimate_root\n",
    "\n",
    "rawdf[\"Bad\"] = rawdf[\"MaybeBad1\"] & rawdf[\"MaybeBad2\"]"
   ]
  },
  {
   "cell_type": "code",
   "execution_count": 247,
   "metadata": {},
   "outputs": [
    {
     "data": {
      "text/html": [
       "<div>\n",
       "<style scoped>\n",
       "    .dataframe tbody tr th:only-of-type {\n",
       "        vertical-align: middle;\n",
       "    }\n",
       "\n",
       "    .dataframe tbody tr th {\n",
       "        vertical-align: top;\n",
       "    }\n",
       "\n",
       "    .dataframe thead th {\n",
       "        text-align: right;\n",
       "    }\n",
       "</style>\n",
       "<table border=\"1\" class=\"dataframe\">\n",
       "  <thead>\n",
       "    <tr style=\"text-align: right;\">\n",
       "      <th></th>\n",
       "      <th>Variant</th>\n",
       "      <th>Root</th>\n",
       "      <th>Ultimate_root</th>\n",
       "      <th>MaybeBad1</th>\n",
       "      <th>MaybeBad2</th>\n",
       "      <th>Bad</th>\n",
       "    </tr>\n",
       "  </thead>\n",
       "  <tbody>\n",
       "    <tr>\n",
       "      <th>53</th>\n",
       "      <td>acceptant</td>\n",
       "      <td>accepter</td>\n",
       "      <td>acceptant</td>\n",
       "      <td>True</td>\n",
       "      <td>True</td>\n",
       "      <td>True</td>\n",
       "    </tr>\n",
       "    <tr>\n",
       "      <th>97</th>\n",
       "      <td>représentant</td>\n",
       "      <td>représenter</td>\n",
       "      <td>représentant</td>\n",
       "      <td>True</td>\n",
       "      <td>True</td>\n",
       "      <td>True</td>\n",
       "    </tr>\n",
       "    <tr>\n",
       "      <th>155</th>\n",
       "      <td>servant</td>\n",
       "      <td>servir</td>\n",
       "      <td>servant</td>\n",
       "      <td>True</td>\n",
       "      <td>True</td>\n",
       "      <td>True</td>\n",
       "    </tr>\n",
       "    <tr>\n",
       "      <th>431</th>\n",
       "      <td>infinitive</td>\n",
       "      <td>infinitif</td>\n",
       "      <td>infinitive</td>\n",
       "      <td>True</td>\n",
       "      <td>True</td>\n",
       "      <td>True</td>\n",
       "    </tr>\n",
       "    <tr>\n",
       "      <th>508</th>\n",
       "      <td>finale</td>\n",
       "      <td>final</td>\n",
       "      <td>finale</td>\n",
       "      <td>True</td>\n",
       "      <td>True</td>\n",
       "      <td>True</td>\n",
       "    </tr>\n",
       "    <tr>\n",
       "      <th>...</th>\n",
       "      <td>...</td>\n",
       "      <td>...</td>\n",
       "      <td>...</td>\n",
       "      <td>...</td>\n",
       "      <td>...</td>\n",
       "      <td>...</td>\n",
       "    </tr>\n",
       "    <tr>\n",
       "      <th>381432</th>\n",
       "      <td>déparasité</td>\n",
       "      <td>déparasiter</td>\n",
       "      <td>déparasité</td>\n",
       "      <td>True</td>\n",
       "      <td>True</td>\n",
       "      <td>True</td>\n",
       "    </tr>\n",
       "    <tr>\n",
       "      <th>385932</th>\n",
       "      <td>étymologisant</td>\n",
       "      <td>étymologiser</td>\n",
       "      <td>étymologisant</td>\n",
       "      <td>True</td>\n",
       "      <td>True</td>\n",
       "      <td>True</td>\n",
       "    </tr>\n",
       "    <tr>\n",
       "      <th>386594</th>\n",
       "      <td>Chams</td>\n",
       "      <td>Cham</td>\n",
       "      <td>Chams</td>\n",
       "      <td>True</td>\n",
       "      <td>True</td>\n",
       "      <td>True</td>\n",
       "    </tr>\n",
       "    <tr>\n",
       "      <th>387751</th>\n",
       "      <td>exondé</td>\n",
       "      <td>exonder</td>\n",
       "      <td>exondé</td>\n",
       "      <td>True</td>\n",
       "      <td>True</td>\n",
       "      <td>True</td>\n",
       "    </tr>\n",
       "    <tr>\n",
       "      <th>389329</th>\n",
       "      <td>Tournay</td>\n",
       "      <td>Tournai</td>\n",
       "      <td>Tournay</td>\n",
       "      <td>True</td>\n",
       "      <td>True</td>\n",
       "      <td>True</td>\n",
       "    </tr>\n",
       "  </tbody>\n",
       "</table>\n",
       "<p>2036 rows × 6 columns</p>\n",
       "</div>"
      ],
      "text/plain": [
       "              Variant          Root  Ultimate_root  MaybeBad1  MaybeBad2   Bad\n",
       "53          acceptant      accepter      acceptant       True       True  True\n",
       "97       représentant   représenter   représentant       True       True  True\n",
       "155           servant        servir        servant       True       True  True\n",
       "431        infinitive     infinitif     infinitive       True       True  True\n",
       "508            finale         final         finale       True       True  True\n",
       "...               ...           ...            ...        ...        ...   ...\n",
       "381432     déparasité   déparasiter     déparasité       True       True  True\n",
       "385932  étymologisant  étymologiser  étymologisant       True       True  True\n",
       "386594          Chams          Cham          Chams       True       True  True\n",
       "387751         exondé       exonder         exondé       True       True  True\n",
       "389329        Tournay       Tournai        Tournay       True       True  True\n",
       "\n",
       "[2036 rows x 6 columns]"
      ]
     },
     "execution_count": 247,
     "metadata": {},
     "output_type": "execute_result"
    }
   ],
   "source": [
    "rawdf[rawdf.Bad == True]"
   ]
  },
  {
   "cell_type": "code",
   "execution_count": 249,
   "metadata": {},
   "outputs": [],
   "source": [
    "rawdf[\"Ultimate_root\"] = np.where(rawdf[\"Bad\"], rawdf[\"Root\"], rawdf[\"Ultimate_root\"])"
   ]
  },
  {
   "cell_type": "code",
   "execution_count": 252,
   "metadata": {},
   "outputs": [
    {
     "data": {
      "text/html": [
       "<div>\n",
       "<style scoped>\n",
       "    .dataframe tbody tr th:only-of-type {\n",
       "        vertical-align: middle;\n",
       "    }\n",
       "\n",
       "    .dataframe tbody tr th {\n",
       "        vertical-align: top;\n",
       "    }\n",
       "\n",
       "    .dataframe thead th {\n",
       "        text-align: right;\n",
       "    }\n",
       "</style>\n",
       "<table border=\"1\" class=\"dataframe\">\n",
       "  <thead>\n",
       "    <tr style=\"text-align: right;\">\n",
       "      <th></th>\n",
       "      <th>Variant</th>\n",
       "      <th>Root</th>\n",
       "      <th>Ultimate_root</th>\n",
       "      <th>MaybeBad1</th>\n",
       "      <th>MaybeBad2</th>\n",
       "      <th>Bad</th>\n",
       "    </tr>\n",
       "  </thead>\n",
       "  <tbody>\n",
       "    <tr>\n",
       "      <th>90326</th>\n",
       "      <td>détaché</td>\n",
       "      <td>détacher</td>\n",
       "      <td>détacher</td>\n",
       "      <td>True</td>\n",
       "      <td>True</td>\n",
       "      <td>True</td>\n",
       "    </tr>\n",
       "    <tr>\n",
       "      <th>80718</th>\n",
       "      <td>décroissant</td>\n",
       "      <td>décroître</td>\n",
       "      <td>décroître</td>\n",
       "      <td>True</td>\n",
       "      <td>True</td>\n",
       "      <td>True</td>\n",
       "    </tr>\n",
       "    <tr>\n",
       "      <th>102301</th>\n",
       "      <td>félicitations</td>\n",
       "      <td>félicitation</td>\n",
       "      <td>félicitation</td>\n",
       "      <td>True</td>\n",
       "      <td>True</td>\n",
       "      <td>True</td>\n",
       "    </tr>\n",
       "    <tr>\n",
       "      <th>12797</th>\n",
       "      <td>doucette</td>\n",
       "      <td>doucet</td>\n",
       "      <td>doucet</td>\n",
       "      <td>True</td>\n",
       "      <td>True</td>\n",
       "      <td>True</td>\n",
       "    </tr>\n",
       "  </tbody>\n",
       "</table>\n",
       "</div>"
      ],
      "text/plain": [
       "              Variant          Root Ultimate_root  MaybeBad1  MaybeBad2   Bad\n",
       "90326         détaché      détacher      détacher       True       True  True\n",
       "80718     décroissant     décroître     décroître       True       True  True\n",
       "102301  félicitations  félicitation  félicitation       True       True  True\n",
       "12797        doucette        doucet        doucet       True       True  True"
      ]
     },
     "execution_count": 252,
     "metadata": {},
     "output_type": "execute_result"
    }
   ],
   "source": [
    "rawdf[rawdf[\"Bad\"]].sample(4)"
   ]
  },
  {
   "cell_type": "markdown",
   "metadata": {},
   "source": [
    "## variant roots?\n",
    "\n",
    "Some \"roots\" also look like variants, we'll include those for now, but be wary later."
   ]
  },
  {
   "cell_type": "markdown",
   "metadata": {},
   "source": [
    "## processed data"
   ]
  },
  {
   "cell_type": "code",
   "execution_count": 272,
   "metadata": {},
   "outputs": [],
   "source": [
    "processed = rawdf[[\"Variant\", \"Ultimate_root\"]].rename(columns = {\"Ultimate_root\" : \"Root\"}).drop_duplicates().reset_index(drop = True)"
   ]
  },
  {
   "cell_type": "code",
   "execution_count": 282,
   "metadata": {},
   "outputs": [
    {
     "data": {
      "text/html": [
       "<div>\n",
       "<style scoped>\n",
       "    .dataframe tbody tr th:only-of-type {\n",
       "        vertical-align: middle;\n",
       "    }\n",
       "\n",
       "    .dataframe tbody tr th {\n",
       "        vertical-align: top;\n",
       "    }\n",
       "\n",
       "    .dataframe thead th {\n",
       "        text-align: right;\n",
       "    }\n",
       "</style>\n",
       "<table border=\"1\" class=\"dataframe\">\n",
       "  <thead>\n",
       "    <tr style=\"text-align: right;\">\n",
       "      <th></th>\n",
       "      <th>Variant</th>\n",
       "      <th>Root</th>\n",
       "    </tr>\n",
       "  </thead>\n",
       "  <tbody>\n",
       "    <tr>\n",
       "      <th>208947</th>\n",
       "      <td>plafonnait</td>\n",
       "      <td>plafonner</td>\n",
       "    </tr>\n",
       "    <tr>\n",
       "      <th>106393</th>\n",
       "      <td>boitassent</td>\n",
       "      <td>boiter</td>\n",
       "    </tr>\n",
       "    <tr>\n",
       "      <th>1684</th>\n",
       "      <td>tricycle</td>\n",
       "      <td>tricycle</td>\n",
       "    </tr>\n",
       "    <tr>\n",
       "      <th>68151</th>\n",
       "      <td>imploriez</td>\n",
       "      <td>imploriez</td>\n",
       "    </tr>\n",
       "    <tr>\n",
       "      <th>329046</th>\n",
       "      <td>notabiliserez</td>\n",
       "      <td>notabiliser</td>\n",
       "    </tr>\n",
       "    <tr>\n",
       "      <th>271644</th>\n",
       "      <td>trépidé</td>\n",
       "      <td>trépider</td>\n",
       "    </tr>\n",
       "    <tr>\n",
       "      <th>360188</th>\n",
       "      <td>gourgourans</td>\n",
       "      <td>gourgouran</td>\n",
       "    </tr>\n",
       "    <tr>\n",
       "      <th>115237</th>\n",
       "      <td>détecteront</td>\n",
       "      <td>détecter</td>\n",
       "    </tr>\n",
       "    <tr>\n",
       "      <th>379610</th>\n",
       "      <td>bourguignote</td>\n",
       "      <td>bourguignote</td>\n",
       "    </tr>\n",
       "    <tr>\n",
       "      <th>362181</th>\n",
       "      <td>ne plus se connaître</td>\n",
       "      <td>ne plus se connaître</td>\n",
       "    </tr>\n",
       "  </tbody>\n",
       "</table>\n",
       "</div>"
      ],
      "text/plain": [
       "                     Variant                  Root\n",
       "208947            plafonnait             plafonner\n",
       "106393            boitassent                boiter\n",
       "1684                tricycle              tricycle\n",
       "68151              imploriez             imploriez\n",
       "329046         notabiliserez           notabiliser\n",
       "271644               trépidé              trépider\n",
       "360188           gourgourans            gourgouran\n",
       "115237           détecteront              détecter\n",
       "379610          bourguignote          bourguignote\n",
       "362181  ne plus se connaître  ne plus se connaître"
      ]
     },
     "execution_count": 282,
     "metadata": {},
     "output_type": "execute_result"
    }
   ],
   "source": [
    "processed.sample(10)"
   ]
  },
  {
   "cell_type": "code",
   "execution_count": 283,
   "metadata": {},
   "outputs": [],
   "source": [
    "save_dir = \"../../../ProcessedData/Variants/French/\"\n",
    "import os\n",
    "if not os.path.exists(save_dir):\n",
    "    os.makedirs(save_dir)"
   ]
  },
  {
   "cell_type": "code",
   "execution_count": 284,
   "metadata": {},
   "outputs": [],
   "source": [
    "processed.to_csv(save_dir + \"kaikki.csv\", encoding='utf-16', index=False)"
   ]
  }
 ],
 "metadata": {
  "kernelspec": {
   "display_name": "Python 3",
   "language": "python",
   "name": "python3"
  },
  "language_info": {
   "codemirror_mode": {
    "name": "ipython",
    "version": 3
   },
   "file_extension": ".py",
   "mimetype": "text/x-python",
   "name": "python",
   "nbconvert_exporter": "python",
   "pygments_lexer": "ipython3",
   "version": "3.8.3"
  }
 },
 "nbformat": 4,
 "nbformat_minor": 4
}
