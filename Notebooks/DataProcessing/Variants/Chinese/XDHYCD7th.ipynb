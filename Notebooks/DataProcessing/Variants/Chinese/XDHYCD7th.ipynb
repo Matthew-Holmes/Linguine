{
 "cells": [
  {
   "cell_type": "markdown",
   "metadata": {},
   "source": [
    "# Word Variants - Chinese\n",
    "\n",
    "This notebook will prepare the lookups for word variants and roots. \n",
    "\n",
    "Chinese is interesting due to the characters, which really can all be considered their own entity.  We'll assign all words to be their own roots, however certain chacters such as 了 could be considered to form a variant of a character."
   ]
  },
  {
   "cell_type": "code",
   "execution_count": 13,
   "metadata": {},
   "outputs": [],
   "source": [
    "import pandas as pd\n",
    "from tqdm import tqdm"
   ]
  },
  {
   "cell_type": "code",
   "execution_count": 14,
   "metadata": {},
   "outputs": [],
   "source": [
    "raw = pd.read_csv(\"../../../ProcessedData/Dictionaries/Chinese/XDHYCD7th.csv\", encoding='UTF-16')\n",
    "processed = raw[[\"Word\"]].drop_duplicates().rename(columns = {\"Word\" : \"Variant\"})"
   ]
  },
  {
   "cell_type": "code",
   "execution_count": 15,
   "metadata": {},
   "outputs": [],
   "source": [
    "processed[\"Root\"] = processed[\"Variant\"]"
   ]
  },
  {
   "cell_type": "code",
   "execution_count": 17,
   "metadata": {},
   "outputs": [],
   "source": [
    "save_dir = \"../../../ProcessedData/Variants/Chinese/\"\n",
    "import os\n",
    "if not os.path.exists(save_dir):\n",
    "    os.makedirs(save_dir)"
   ]
  },
  {
   "cell_type": "code",
   "execution_count": 18,
   "metadata": {},
   "outputs": [],
   "source": [
    "processed.to_csv(save_dir + \"XDHYCD7th.csv\", encoding='utf-16', index=False)"
   ]
  }
 ],
 "metadata": {
  "kernelspec": {
   "display_name": "Python 3",
   "language": "python",
   "name": "python3"
  },
  "language_info": {
   "codemirror_mode": {
    "name": "ipython",
    "version": 3
   },
   "file_extension": ".py",
   "mimetype": "text/x-python",
   "name": "python",
   "nbconvert_exporter": "python",
   "pygments_lexer": "ipython3",
   "version": "3.8.3"
  }
 },
 "nbformat": 4,
 "nbformat_minor": 4
}
