{
 "cells": [
  {
   "cell_type": "markdown",
   "metadata": {},
   "source": [
    "# benjihillard dictionary processing\n",
    "\n",
    "I found an english dictionary here: https://github.com/benjihillard/English-Dictionary-Database/blob/main/english%20Dictionary.csv"
   ]
  },
  {
   "cell_type": "code",
   "execution_count": 37,
   "metadata": {},
   "outputs": [],
   "source": [
    "import pandas as pd\n",
    "from tqdm import tqdm"
   ]
  },
  {
   "cell_type": "code",
   "execution_count": 38,
   "metadata": {},
   "outputs": [],
   "source": [
    "raw = pd.read_csv(\"../../../RawData/Dictionaries/English/benjihillard.csv\")"
   ]
  },
  {
   "cell_type": "code",
   "execution_count": 39,
   "metadata": {},
   "outputs": [
    {
     "data": {
      "text/html": [
       "<div>\n",
       "<style scoped>\n",
       "    .dataframe tbody tr th:only-of-type {\n",
       "        vertical-align: middle;\n",
       "    }\n",
       "\n",
       "    .dataframe tbody tr th {\n",
       "        vertical-align: top;\n",
       "    }\n",
       "\n",
       "    .dataframe thead th {\n",
       "        text-align: right;\n",
       "    }\n",
       "</style>\n",
       "<table border=\"1\" class=\"dataframe\">\n",
       "  <thead>\n",
       "    <tr style=\"text-align: right;\">\n",
       "      <th></th>\n",
       "      <th>word</th>\n",
       "      <th>pos</th>\n",
       "      <th>def</th>\n",
       "    </tr>\n",
       "  </thead>\n",
       "  <tbody>\n",
       "    <tr>\n",
       "      <th>152854</th>\n",
       "      <td>Sunshiny</td>\n",
       "      <td>a.</td>\n",
       "      <td>Bright with the rays of the sun; clear, warm, ...</td>\n",
       "    </tr>\n",
       "    <tr>\n",
       "      <th>154505</th>\n",
       "      <td>Swobber</td>\n",
       "      <td>n.</td>\n",
       "      <td>See Swabber.</td>\n",
       "    </tr>\n",
       "    <tr>\n",
       "      <th>148412</th>\n",
       "      <td>Staphyline</td>\n",
       "      <td>a.</td>\n",
       "      <td>Of or pertaining to the uvula or the palate.</td>\n",
       "    </tr>\n",
       "    <tr>\n",
       "      <th>33377</th>\n",
       "      <td>Convallaria</td>\n",
       "      <td>n.</td>\n",
       "      <td>The lily of the valley.</td>\n",
       "    </tr>\n",
       "  </tbody>\n",
       "</table>\n",
       "</div>"
      ],
      "text/plain": [
       "               word pos                                                def\n",
       "152854     Sunshiny  a.  Bright with the rays of the sun; clear, warm, ...\n",
       "154505      Swobber  n.                                       See Swabber.\n",
       "148412   Staphyline  a.       Of or pertaining to the uvula or the palate.\n",
       "33377   Convallaria  n.                            The lily of the valley."
      ]
     },
     "execution_count": 39,
     "metadata": {},
     "output_type": "execute_result"
    }
   ],
   "source": [
    "raw.sample(4)"
   ]
  },
  {
   "cell_type": "markdown",
   "metadata": {},
   "source": [
    "Already we see a problem - all words are capitalised, however some words' meaning changes based on capitalisation, such as the constellation vs disease cancer.\n",
    "\n",
    "We assume the root of a word to be the uncapitalised form, unless it is a proper noun."
   ]
  },
  {
   "cell_type": "code",
   "execution_count": 40,
   "metadata": {},
   "outputs": [
    {
     "data": {
      "text/html": [
       "<div>\n",
       "<style scoped>\n",
       "    .dataframe tbody tr th:only-of-type {\n",
       "        vertical-align: middle;\n",
       "    }\n",
       "\n",
       "    .dataframe tbody tr th {\n",
       "        vertical-align: top;\n",
       "    }\n",
       "\n",
       "    .dataframe thead th {\n",
       "        text-align: right;\n",
       "    }\n",
       "</style>\n",
       "<table border=\"1\" class=\"dataframe\">\n",
       "  <thead>\n",
       "    <tr style=\"text-align: right;\">\n",
       "      <th></th>\n",
       "      <th>word</th>\n",
       "      <th>pos</th>\n",
       "      <th>def</th>\n",
       "    </tr>\n",
       "  </thead>\n",
       "  <tbody>\n",
       "    <tr>\n",
       "      <th>22479</th>\n",
       "      <td>Cancer</td>\n",
       "      <td>n.</td>\n",
       "      <td>A genus of decapod Crustacea, including some o...</td>\n",
       "    </tr>\n",
       "    <tr>\n",
       "      <th>22480</th>\n",
       "      <td>Cancer</td>\n",
       "      <td>n.</td>\n",
       "      <td>The fourth of the twelve signs of the zodiac. ...</td>\n",
       "    </tr>\n",
       "    <tr>\n",
       "      <th>22481</th>\n",
       "      <td>Cancer</td>\n",
       "      <td>n.</td>\n",
       "      <td>A northern constellation between Gemini and Leo.</td>\n",
       "    </tr>\n",
       "    <tr>\n",
       "      <th>22482</th>\n",
       "      <td>Cancer</td>\n",
       "      <td>n.</td>\n",
       "      <td>Formerly, any malignant growth, esp. one atten...</td>\n",
       "    </tr>\n",
       "  </tbody>\n",
       "</table>\n",
       "</div>"
      ],
      "text/plain": [
       "         word pos                                                def\n",
       "22479  Cancer  n.  A genus of decapod Crustacea, including some o...\n",
       "22480  Cancer  n.  The fourth of the twelve signs of the zodiac. ...\n",
       "22481  Cancer  n.   A northern constellation between Gemini and Leo.\n",
       "22482  Cancer  n.  Formerly, any malignant growth, esp. one atten..."
      ]
     },
     "execution_count": 40,
     "metadata": {},
     "output_type": "execute_result"
    }
   ],
   "source": [
    "raw[raw.word == \"Cancer\"]"
   ]
  },
  {
   "cell_type": "markdown",
   "metadata": {},
   "source": [
    "## Conclusion\n",
    " \n",
    "We'll lowercase everything, but now accept that dictionaries can be fallable. "
   ]
  },
  {
   "cell_type": "code",
   "execution_count": 41,
   "metadata": {},
   "outputs": [],
   "source": [
    "def lowercase_first_letter(s):\n",
    "    return s[0].lower() + s[1:] if s else s"
   ]
  },
  {
   "cell_type": "code",
   "execution_count": 42,
   "metadata": {},
   "outputs": [],
   "source": [
    "raw['word'] = raw['word'].apply(lowercase_first_letter) # lowercase\n",
    "raw.drop([\"pos\"], axis = 1, inplace = True) # remove excess\n",
    "raw.reset_index(inplace = True)"
   ]
  },
  {
   "cell_type": "code",
   "execution_count": 45,
   "metadata": {},
   "outputs": [],
   "source": [
    "processed = raw.rename(columns = {\"index\" : \"ID\", \"word\" : \"Word\", \"def\" : \"Definition\"})"
   ]
  },
  {
   "cell_type": "code",
   "execution_count": 46,
   "metadata": {},
   "outputs": [
    {
     "data": {
      "text/html": [
       "<div>\n",
       "<style scoped>\n",
       "    .dataframe tbody tr th:only-of-type {\n",
       "        vertical-align: middle;\n",
       "    }\n",
       "\n",
       "    .dataframe tbody tr th {\n",
       "        vertical-align: top;\n",
       "    }\n",
       "\n",
       "    .dataframe thead th {\n",
       "        text-align: right;\n",
       "    }\n",
       "</style>\n",
       "<table border=\"1\" class=\"dataframe\">\n",
       "  <thead>\n",
       "    <tr style=\"text-align: right;\">\n",
       "      <th></th>\n",
       "      <th>ID</th>\n",
       "      <th>Word</th>\n",
       "      <th>Definition</th>\n",
       "    </tr>\n",
       "  </thead>\n",
       "  <tbody>\n",
       "    <tr>\n",
       "      <th>0</th>\n",
       "      <td>0</td>\n",
       "      <td>a</td>\n",
       "      <td>The first letter of the English and of many ot...</td>\n",
       "    </tr>\n",
       "    <tr>\n",
       "      <th>1</th>\n",
       "      <td>1</td>\n",
       "      <td>a</td>\n",
       "      <td>The name of the sixth tone in the model major ...</td>\n",
       "    </tr>\n",
       "    <tr>\n",
       "      <th>2</th>\n",
       "      <td>2</td>\n",
       "      <td>a</td>\n",
       "      <td>An adjective, commonly called the indefinite a...</td>\n",
       "    </tr>\n",
       "    <tr>\n",
       "      <th>3</th>\n",
       "      <td>3</td>\n",
       "      <td>a</td>\n",
       "      <td>In each; to or for each; as, \"twenty leagues a...</td>\n",
       "    </tr>\n",
       "    <tr>\n",
       "      <th>4</th>\n",
       "      <td>4</td>\n",
       "      <td>a</td>\n",
       "      <td>In; on; at; by.</td>\n",
       "    </tr>\n",
       "    <tr>\n",
       "      <th>...</th>\n",
       "      <td>...</td>\n",
       "      <td>...</td>\n",
       "      <td>...</td>\n",
       "    </tr>\n",
       "    <tr>\n",
       "      <th>176043</th>\n",
       "      <td>176043</td>\n",
       "      <td>yupon</td>\n",
       "      <td>Same as Yaupon.</td>\n",
       "    </tr>\n",
       "    <tr>\n",
       "      <th>176044</th>\n",
       "      <td>176044</td>\n",
       "      <td>yux</td>\n",
       "      <td>See Yex, n.</td>\n",
       "    </tr>\n",
       "    <tr>\n",
       "      <th>176045</th>\n",
       "      <td>176045</td>\n",
       "      <td>yvel</td>\n",
       "      <td>Evil; ill.</td>\n",
       "    </tr>\n",
       "    <tr>\n",
       "      <th>176046</th>\n",
       "      <td>176046</td>\n",
       "      <td>ywar</td>\n",
       "      <td>Aware; wary.</td>\n",
       "    </tr>\n",
       "    <tr>\n",
       "      <th>176047</th>\n",
       "      <td>176047</td>\n",
       "      <td>ywis</td>\n",
       "      <td>Certainly; most likely; truly; probably.</td>\n",
       "    </tr>\n",
       "  </tbody>\n",
       "</table>\n",
       "<p>176048 rows × 3 columns</p>\n",
       "</div>"
      ],
      "text/plain": [
       "            ID   Word                                         Definition\n",
       "0            0      a  The first letter of the English and of many ot...\n",
       "1            1      a  The name of the sixth tone in the model major ...\n",
       "2            2      a  An adjective, commonly called the indefinite a...\n",
       "3            3      a  In each; to or for each; as, \"twenty leagues a...\n",
       "4            4      a                                    In; on; at; by.\n",
       "...        ...    ...                                                ...\n",
       "176043  176043  yupon                                    Same as Yaupon.\n",
       "176044  176044    yux                                        See Yex, n.\n",
       "176045  176045   yvel                                         Evil; ill.\n",
       "176046  176046   ywar                                       Aware; wary.\n",
       "176047  176047   ywis           Certainly; most likely; truly; probably.\n",
       "\n",
       "[176048 rows x 3 columns]"
      ]
     },
     "execution_count": 46,
     "metadata": {},
     "output_type": "execute_result"
    }
   ],
   "source": [
    "processed"
   ]
  },
  {
   "cell_type": "code",
   "execution_count": 48,
   "metadata": {},
   "outputs": [],
   "source": [
    "save_dir = \"../../../ProcessedData/Dictionaries/English/\"\n",
    "import os\n",
    "if not os.path.exists(save_dir):\n",
    "    os.makedirs(save_dir)"
   ]
  },
  {
   "cell_type": "code",
   "execution_count": 50,
   "metadata": {},
   "outputs": [],
   "source": [
    "processed.to_csv(save_dir + \"benjihillard.csv\", encoding='utf-16', index=False)"
   ]
  }
 ],
 "metadata": {
  "kernelspec": {
   "display_name": "Python 3",
   "language": "python",
   "name": "python3"
  },
  "language_info": {
   "codemirror_mode": {
    "name": "ipython",
    "version": 3
   },
   "file_extension": ".py",
   "mimetype": "text/x-python",
   "name": "python",
   "nbconvert_exporter": "python",
   "pygments_lexer": "ipython3",
   "version": "3.8.3"
  }
 },
 "nbformat": 4,
 "nbformat_minor": 4
}
