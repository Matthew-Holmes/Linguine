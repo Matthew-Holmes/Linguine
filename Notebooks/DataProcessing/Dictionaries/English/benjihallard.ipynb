{
 "cells": [
  {
   "cell_type": "markdown",
   "metadata": {},
   "source": [
    "# benjihillard dictionary processing\n",
    "\n",
    "I found an english dictionary here: https://github.com/benjihillard/English-Dictionary-Database/blob/main/english%20Dictionary.csv"
   ]
  },
  {
   "cell_type": "code",
   "execution_count": 1,
   "metadata": {},
   "outputs": [],
   "source": [
    "import pandas as pd\n",
    "from tqdm import tqdm"
   ]
  },
  {
   "cell_type": "code",
   "execution_count": 2,
   "metadata": {
    "scrolled": true
   },
   "outputs": [],
   "source": [
    "raw = pd.read_csv(\"../../../RawData/Dictionaries/English/benjihillard.csv\")"
   ]
  },
  {
   "cell_type": "code",
   "execution_count": 3,
   "metadata": {},
   "outputs": [
    {
     "data": {
      "text/html": [
       "<div>\n",
       "<style scoped>\n",
       "    .dataframe tbody tr th:only-of-type {\n",
       "        vertical-align: middle;\n",
       "    }\n",
       "\n",
       "    .dataframe tbody tr th {\n",
       "        vertical-align: top;\n",
       "    }\n",
       "\n",
       "    .dataframe thead th {\n",
       "        text-align: right;\n",
       "    }\n",
       "</style>\n",
       "<table border=\"1\" class=\"dataframe\">\n",
       "  <thead>\n",
       "    <tr style=\"text-align: right;\">\n",
       "      <th></th>\n",
       "      <th>word</th>\n",
       "      <th>pos</th>\n",
       "      <th>def</th>\n",
       "    </tr>\n",
       "  </thead>\n",
       "  <tbody>\n",
       "    <tr>\n",
       "      <th>96627</th>\n",
       "      <td>Milter</td>\n",
       "      <td>n.</td>\n",
       "      <td>A male fish.</td>\n",
       "    </tr>\n",
       "    <tr>\n",
       "      <th>24180</th>\n",
       "      <td>Catchwater</td>\n",
       "      <td>n.</td>\n",
       "      <td>A ditch or drain for catching water. See Catch...</td>\n",
       "    </tr>\n",
       "    <tr>\n",
       "      <th>87021</th>\n",
       "      <td>Lapidescence</td>\n",
       "      <td>n.</td>\n",
       "      <td>A hardening into a stone substance.</td>\n",
       "    </tr>\n",
       "    <tr>\n",
       "      <th>86861</th>\n",
       "      <td>Landward</td>\n",
       "      <td>adv. &amp; a.</td>\n",
       "      <td>Toward the land.</td>\n",
       "    </tr>\n",
       "  </tbody>\n",
       "</table>\n",
       "</div>"
      ],
      "text/plain": [
       "               word        pos  \\\n",
       "96627        Milter         n.   \n",
       "24180    Catchwater         n.   \n",
       "87021  Lapidescence         n.   \n",
       "86861      Landward  adv. & a.   \n",
       "\n",
       "                                                     def  \n",
       "96627                                       A male fish.  \n",
       "24180  A ditch or drain for catching water. See Catch...  \n",
       "87021                A hardening into a stone substance.  \n",
       "86861                                   Toward the land.  "
      ]
     },
     "execution_count": 3,
     "metadata": {},
     "output_type": "execute_result"
    }
   ],
   "source": [
    "raw.sample(4)"
   ]
  },
  {
   "cell_type": "markdown",
   "metadata": {},
   "source": [
    "Already we see a problem - all words are capitalised, however some words' meaning changes based on capitalisation, such as the constellation vs disease cancer.\n",
    "\n",
    "We assume the root of a word to be the uncapitalised form, unless it is a proper noun."
   ]
  },
  {
   "cell_type": "code",
   "execution_count": 4,
   "metadata": {},
   "outputs": [
    {
     "data": {
      "text/html": [
       "<div>\n",
       "<style scoped>\n",
       "    .dataframe tbody tr th:only-of-type {\n",
       "        vertical-align: middle;\n",
       "    }\n",
       "\n",
       "    .dataframe tbody tr th {\n",
       "        vertical-align: top;\n",
       "    }\n",
       "\n",
       "    .dataframe thead th {\n",
       "        text-align: right;\n",
       "    }\n",
       "</style>\n",
       "<table border=\"1\" class=\"dataframe\">\n",
       "  <thead>\n",
       "    <tr style=\"text-align: right;\">\n",
       "      <th></th>\n",
       "      <th>word</th>\n",
       "      <th>pos</th>\n",
       "      <th>def</th>\n",
       "    </tr>\n",
       "  </thead>\n",
       "  <tbody>\n",
       "    <tr>\n",
       "      <th>22479</th>\n",
       "      <td>Cancer</td>\n",
       "      <td>n.</td>\n",
       "      <td>A genus of decapod Crustacea, including some o...</td>\n",
       "    </tr>\n",
       "    <tr>\n",
       "      <th>22480</th>\n",
       "      <td>Cancer</td>\n",
       "      <td>n.</td>\n",
       "      <td>The fourth of the twelve signs of the zodiac. ...</td>\n",
       "    </tr>\n",
       "    <tr>\n",
       "      <th>22481</th>\n",
       "      <td>Cancer</td>\n",
       "      <td>n.</td>\n",
       "      <td>A northern constellation between Gemini and Leo.</td>\n",
       "    </tr>\n",
       "    <tr>\n",
       "      <th>22482</th>\n",
       "      <td>Cancer</td>\n",
       "      <td>n.</td>\n",
       "      <td>Formerly, any malignant growth, esp. one atten...</td>\n",
       "    </tr>\n",
       "  </tbody>\n",
       "</table>\n",
       "</div>"
      ],
      "text/plain": [
       "         word pos                                                def\n",
       "22479  Cancer  n.  A genus of decapod Crustacea, including some o...\n",
       "22480  Cancer  n.  The fourth of the twelve signs of the zodiac. ...\n",
       "22481  Cancer  n.   A northern constellation between Gemini and Leo.\n",
       "22482  Cancer  n.  Formerly, any malignant growth, esp. one atten..."
      ]
     },
     "execution_count": 4,
     "metadata": {},
     "output_type": "execute_result"
    }
   ],
   "source": [
    "raw[raw.word == \"Cancer\"]"
   ]
  },
  {
   "cell_type": "code",
   "execution_count": 5,
   "metadata": {},
   "outputs": [
    {
     "data": {
      "text/html": [
       "<div>\n",
       "<style scoped>\n",
       "    .dataframe tbody tr th:only-of-type {\n",
       "        vertical-align: middle;\n",
       "    }\n",
       "\n",
       "    .dataframe tbody tr th {\n",
       "        vertical-align: top;\n",
       "    }\n",
       "\n",
       "    .dataframe thead th {\n",
       "        text-align: right;\n",
       "    }\n",
       "</style>\n",
       "<table border=\"1\" class=\"dataframe\">\n",
       "  <thead>\n",
       "    <tr style=\"text-align: right;\">\n",
       "      <th></th>\n",
       "      <th>word</th>\n",
       "      <th>pos</th>\n",
       "      <th>def</th>\n",
       "    </tr>\n",
       "  </thead>\n",
       "  <tbody>\n",
       "    <tr>\n",
       "      <th>127355</th>\n",
       "      <td>Reenforce</td>\n",
       "      <td>v.</td>\n",
       "      <td>That part of a cannon near the breech which is...</td>\n",
       "    </tr>\n",
       "    <tr>\n",
       "      <th>127356</th>\n",
       "      <td>Reenforce</td>\n",
       "      <td>v.</td>\n",
       "      <td>(b) Reenforce (v.) An additional thickness of...</td>\n",
       "    </tr>\n",
       "    <tr>\n",
       "      <th>139644</th>\n",
       "      <td>Shall</td>\n",
       "      <td>v. i. &amp; auxiliary.</td>\n",
       "      <td>As an auxiliary, shall indicates a duty or nec...</td>\n",
       "    </tr>\n",
       "  </tbody>\n",
       "</table>\n",
       "</div>"
      ],
      "text/plain": [
       "             word                 pos  \\\n",
       "127355  Reenforce                  v.   \n",
       "127356  Reenforce                  v.   \n",
       "139644      Shall  v. i. & auxiliary.   \n",
       "\n",
       "                                                      def  \n",
       "127355  That part of a cannon near the breech which is...  \n",
       "127356   (b) Reenforce (v.) An additional thickness of...  \n",
       "139644  As an auxiliary, shall indicates a duty or nec...  "
      ]
     },
     "execution_count": 5,
     "metadata": {},
     "output_type": "execute_result"
    }
   ],
   "source": [
    "mask = (raw['def'].str.len() > 1000)\n",
    "raw.loc[mask]"
   ]
  },
  {
   "cell_type": "code",
   "execution_count": 6,
   "metadata": {},
   "outputs": [],
   "source": [
    "raw = raw[raw.word != \"Reenforce\"] # data messed up here, can come back and tidy when it becomes a problem"
   ]
  },
  {
   "cell_type": "markdown",
   "metadata": {},
   "source": [
    "## Conclusion\n",
    " \n",
    "We'll lowercase everything, but now accept that dictionaries can be fallable. "
   ]
  },
  {
   "cell_type": "code",
   "execution_count": 7,
   "metadata": {},
   "outputs": [],
   "source": [
    "def lowercase_first_letter(s):\n",
    "    return s[0].lower() + s[1:] if s else s"
   ]
  },
  {
   "cell_type": "code",
   "execution_count": 8,
   "metadata": {},
   "outputs": [],
   "source": [
    "raw['word'] = raw['word'].apply(lowercase_first_letter) # lowercase\n",
    "raw.drop([\"pos\"], axis = 1, inplace = True) # remove excess\n",
    "raw.reset_index(inplace = True)"
   ]
  },
  {
   "cell_type": "code",
   "execution_count": 9,
   "metadata": {},
   "outputs": [],
   "source": [
    "processed = raw.rename(columns = {\"index\" : \"ID\", \"word\" : \"Word\", \"def\" : \"Definition\"})"
   ]
  },
  {
   "cell_type": "code",
   "execution_count": 10,
   "metadata": {},
   "outputs": [],
   "source": [
    "save_dir = \"../../../ProcessedData/Dictionaries/English/\"\n",
    "import os\n",
    "if not os.path.exists(save_dir):\n",
    "    os.makedirs(save_dir)"
   ]
  },
  {
   "cell_type": "code",
   "execution_count": 11,
   "metadata": {},
   "outputs": [],
   "source": [
    "processed.to_csv(save_dir + \"benjihillard.csv\", encoding='utf-16', index=False)"
   ]
  },
  {
   "cell_type": "code",
   "execution_count": 12,
   "metadata": {},
   "outputs": [],
   "source": [
    "df = pd.read_csv(save_dir + \"benjihillard.csv\", encoding='utf-16')"
   ]
  },
  {
   "cell_type": "code",
   "execution_count": 13,
   "metadata": {},
   "outputs": [
    {
     "data": {
      "text/html": [
       "<div>\n",
       "<style scoped>\n",
       "    .dataframe tbody tr th:only-of-type {\n",
       "        vertical-align: middle;\n",
       "    }\n",
       "\n",
       "    .dataframe tbody tr th {\n",
       "        vertical-align: top;\n",
       "    }\n",
       "\n",
       "    .dataframe thead th {\n",
       "        text-align: right;\n",
       "    }\n",
       "</style>\n",
       "<table border=\"1\" class=\"dataframe\">\n",
       "  <thead>\n",
       "    <tr style=\"text-align: right;\">\n",
       "      <th></th>\n",
       "      <th>ID</th>\n",
       "      <th>Word</th>\n",
       "      <th>Definition</th>\n",
       "    </tr>\n",
       "  </thead>\n",
       "  <tbody>\n",
       "    <tr>\n",
       "      <th>0</th>\n",
       "      <td>0</td>\n",
       "      <td>a</td>\n",
       "      <td>The first letter of the English and of many ot...</td>\n",
       "    </tr>\n",
       "    <tr>\n",
       "      <th>1</th>\n",
       "      <td>1</td>\n",
       "      <td>a</td>\n",
       "      <td>The name of the sixth tone in the model major ...</td>\n",
       "    </tr>\n",
       "    <tr>\n",
       "      <th>2</th>\n",
       "      <td>2</td>\n",
       "      <td>a</td>\n",
       "      <td>An adjective, commonly called the indefinite a...</td>\n",
       "    </tr>\n",
       "    <tr>\n",
       "      <th>3</th>\n",
       "      <td>3</td>\n",
       "      <td>a</td>\n",
       "      <td>In each; to or for each; as, \"twenty leagues a...</td>\n",
       "    </tr>\n",
       "    <tr>\n",
       "      <th>4</th>\n",
       "      <td>4</td>\n",
       "      <td>a</td>\n",
       "      <td>In; on; at; by.</td>\n",
       "    </tr>\n",
       "    <tr>\n",
       "      <th>...</th>\n",
       "      <td>...</td>\n",
       "      <td>...</td>\n",
       "      <td>...</td>\n",
       "    </tr>\n",
       "    <tr>\n",
       "      <th>176038</th>\n",
       "      <td>176043</td>\n",
       "      <td>yupon</td>\n",
       "      <td>Same as Yaupon.</td>\n",
       "    </tr>\n",
       "    <tr>\n",
       "      <th>176039</th>\n",
       "      <td>176044</td>\n",
       "      <td>yux</td>\n",
       "      <td>See Yex, n.</td>\n",
       "    </tr>\n",
       "    <tr>\n",
       "      <th>176040</th>\n",
       "      <td>176045</td>\n",
       "      <td>yvel</td>\n",
       "      <td>Evil; ill.</td>\n",
       "    </tr>\n",
       "    <tr>\n",
       "      <th>176041</th>\n",
       "      <td>176046</td>\n",
       "      <td>ywar</td>\n",
       "      <td>Aware; wary.</td>\n",
       "    </tr>\n",
       "    <tr>\n",
       "      <th>176042</th>\n",
       "      <td>176047</td>\n",
       "      <td>ywis</td>\n",
       "      <td>Certainly; most likely; truly; probably.</td>\n",
       "    </tr>\n",
       "  </tbody>\n",
       "</table>\n",
       "<p>176043 rows × 3 columns</p>\n",
       "</div>"
      ],
      "text/plain": [
       "            ID   Word                                         Definition\n",
       "0            0      a  The first letter of the English and of many ot...\n",
       "1            1      a  The name of the sixth tone in the model major ...\n",
       "2            2      a  An adjective, commonly called the indefinite a...\n",
       "3            3      a  In each; to or for each; as, \"twenty leagues a...\n",
       "4            4      a                                    In; on; at; by.\n",
       "...        ...    ...                                                ...\n",
       "176038  176043  yupon                                    Same as Yaupon.\n",
       "176039  176044    yux                                        See Yex, n.\n",
       "176040  176045   yvel                                         Evil; ill.\n",
       "176041  176046   ywar                                       Aware; wary.\n",
       "176042  176047   ywis           Certainly; most likely; truly; probably.\n",
       "\n",
       "[176043 rows x 3 columns]"
      ]
     },
     "execution_count": 13,
     "metadata": {},
     "output_type": "execute_result"
    }
   ],
   "source": [
    "df"
   ]
  },
  {
   "cell_type": "code",
   "execution_count": null,
   "metadata": {},
   "outputs": [],
   "source": []
  }
 ],
 "metadata": {
  "kernelspec": {
   "display_name": "Python 3",
   "language": "python",
   "name": "python3"
  },
  "language_info": {
   "codemirror_mode": {
    "name": "ipython",
    "version": 3
   },
   "file_extension": ".py",
   "mimetype": "text/x-python",
   "name": "python",
   "nbconvert_exporter": "python",
   "pygments_lexer": "ipython3",
   "version": "3.8.3"
  }
 },
 "nbformat": 4,
 "nbformat_minor": 4
}
