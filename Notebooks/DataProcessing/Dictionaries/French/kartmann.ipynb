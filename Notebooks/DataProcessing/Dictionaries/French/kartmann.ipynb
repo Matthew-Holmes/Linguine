{
 "cells": [
  {
   "cell_type": "markdown",
   "metadata": {},
   "source": [
    "# benjihillard dictionary processing\n",
    "\n",
    "I found a french dictionary here: https://github.com/Kartmaan/french-language-tools?tab=readme-ov-file"
   ]
  },
  {
   "cell_type": "code",
   "execution_count": 1,
   "metadata": {},
   "outputs": [],
   "source": [
    "import pandas as pd\n",
    "from tqdm import tqdm\n",
    "import ast"
   ]
  },
  {
   "cell_type": "code",
   "execution_count": 2,
   "metadata": {},
   "outputs": [],
   "source": [
    "raw = pd.read_csv(\"../../../RawData/Dictionaries/French/kartmann.csv\")"
   ]
  },
  {
   "cell_type": "code",
   "execution_count": 3,
   "metadata": {},
   "outputs": [
    {
     "data": {
      "text/html": [
       "<div>\n",
       "<style scoped>\n",
       "    .dataframe tbody tr th:only-of-type {\n",
       "        vertical-align: middle;\n",
       "    }\n",
       "\n",
       "    .dataframe tbody tr th {\n",
       "        vertical-align: top;\n",
       "    }\n",
       "\n",
       "    .dataframe thead th {\n",
       "        text-align: right;\n",
       "    }\n",
       "</style>\n",
       "<table border=\"1\" class=\"dataframe\">\n",
       "  <thead>\n",
       "    <tr style=\"text-align: right;\">\n",
       "      <th></th>\n",
       "      <th>Mot</th>\n",
       "      <th>Définitions</th>\n",
       "    </tr>\n",
       "  </thead>\n",
       "  <tbody>\n",
       "    <tr>\n",
       "      <th>719803</th>\n",
       "      <td>Jarselaine</td>\n",
       "      <td>['Habitante de Jarsy, commune française située...</td>\n",
       "    </tr>\n",
       "    <tr>\n",
       "      <th>392350</th>\n",
       "      <td>Démenotterions</td>\n",
       "      <td>['Première personne du pluriel du conditionnel...</td>\n",
       "    </tr>\n",
       "    <tr>\n",
       "      <th>367606</th>\n",
       "      <td>Enamouriez</td>\n",
       "      <td>[\"Deuxième personne du pluriel de l'indicatif ...</td>\n",
       "    </tr>\n",
       "    <tr>\n",
       "      <th>613539</th>\n",
       "      <td>Bethenyate</td>\n",
       "      <td>['Féminin singulier de bethenyat.']</td>\n",
       "    </tr>\n",
       "  </tbody>\n",
       "</table>\n",
       "</div>"
      ],
      "text/plain": [
       "                   Mot                                        Définitions\n",
       "719803      Jarselaine  ['Habitante de Jarsy, commune française située...\n",
       "392350  Démenotterions  ['Première personne du pluriel du conditionnel...\n",
       "367606      Enamouriez  [\"Deuxième personne du pluriel de l'indicatif ...\n",
       "613539      Bethenyate                ['Féminin singulier de bethenyat.']"
      ]
     },
     "execution_count": 3,
     "metadata": {},
     "output_type": "execute_result"
    }
   ],
   "source": [
    "raw.sample(4)"
   ]
  },
  {
   "cell_type": "markdown",
   "metadata": {},
   "source": [
    "## Multiple definitions\n",
    "\n",
    "All the definitions of a word are collected in the one entry, we'll have to chop them up.\n"
   ]
  },
  {
   "cell_type": "code",
   "execution_count": 4,
   "metadata": {},
   "outputs": [
    {
     "data": {
      "text/plain": [
       "'[\\'Ensemble de pages reliées entre elles et dotées de signes destinés à être lus.\\', \"Ouvrage de l\\'esprit, en prose ou en vers, d\\'assez grande étendue pour faire au moins un volume.\", \\'Écrit sur une face et se présentant sous forme de rouleau.\\', \\'Ensemble de feuilles de parchemin ou de papier écrites des deux côtés et rassemblées en cahiers, codex.\\', \\'Ouvrage imprimé, relié ou broché, non périodique, comportant un assez grand nombre de pages.\\', \"Ce type d\\'ouvrage, publié sur un autre support.\", \\'Sous-partie, division de ces ouvrages.\\', \\'Terme générique faisant référence à un ouvrage servant de base à une religion et considéré comme sacré.\\', \"Commerce Registre sur lequel on inscrit ce qu\\'on reçoit et ce qu\\'on dépense, ce qu\\'on achète et ce qu\\'on vend, ses dettes actives et ses dettes passives, etc.\", \"Diplomatie Accompagné d\\'une épithète de couleur (désignant la couverture) : Recueil de pièces diplomatiques, publié par le gouvernement d\\'un pays.\", \"Secteur d\\'activité regroupant l\\'édition et l\\'imprimerie.\", \\'Unité monétaire ancienne puis étrangère.\\', \\'Unité de mesure de masse (symbole : lb) dans le système de mesures britannique. Voir pound.\\', \"Unité informelle de mesure de masse (France), surtout utilisée lors d\\'achats de produits alimentaires ou agricoles.\", \\'Ancienne unité de mesure de masse (France).\\', \\'Du verbe livrer :\\', \"Première personne du singulier du présent de l\\'indicatif.\", \"Troisième personne du singulier du présent de l\\'indicatif.\", \\'Première personne du singulier du présent du subjonctif.\\', \\'Troisième personne du singulier du présent du subjonctif.\\', \"Deuxième personne du singulier du présent de l\\'impératif.\"]'"
      ]
     },
     "execution_count": 4,
     "metadata": {},
     "output_type": "execute_result"
    }
   ],
   "source": [
    "raw[raw.Mot == \"Livre\"][\"Définitions\"].tolist()[0]"
   ]
  },
  {
   "cell_type": "code",
   "execution_count": 5,
   "metadata": {},
   "outputs": [
    {
     "name": "stdout",
     "output_type": "stream",
     "text": [
      "Mot :  Livre\n",
      "1) Ensemble de pages reliées entre elles et dotées de signes destinés à être lus.\n",
      "2) Ouvrage de l'esprit, en prose ou en vers, d'assez grande étendue pour faire au moins un volume.\n",
      "3) Écrit sur une face et se présentant sous forme de rouleau.\n",
      "4) Ensemble de feuilles de parchemin ou de papier écrites des deux côtés et rassemblées en cahiers, codex.\n",
      "5) Ouvrage imprimé, relié ou broché, non périodique, comportant un assez grand nombre de pages.\n",
      "6) Ce type d'ouvrage, publié sur un autre support.\n",
      "7) Sous-partie, division de ces ouvrages.\n",
      "8) Terme générique faisant référence à un ouvrage servant de base à une religion et considéré comme sacré.\n",
      "9) Commerce Registre sur lequel on inscrit ce qu'on reçoit et ce qu'on dépense, ce qu'on achète et ce qu'on vend, ses dettes actives et ses dettes passives, etc.\n",
      "10) Diplomatie Accompagné d'une épithète de couleur (désignant la couverture) : Recueil de pièces diplomatiques, publié par le gouvernement d'un pays.\n",
      "11) Secteur d'activité regroupant l'édition et l'imprimerie.\n",
      "12) Unité monétaire ancienne puis étrangère.\n",
      "13) Unité de mesure de masse (symbole : lb) dans le système de mesures britannique. Voir pound.\n",
      "14) Unité informelle de mesure de masse (France), surtout utilisée lors d'achats de produits alimentaires ou agricoles.\n",
      "15) Ancienne unité de mesure de masse (France).\n",
      "16) Du verbe livrer :\n",
      "17) Première personne du singulier du présent de l'indicatif.\n",
      "18) Troisième personne du singulier du présent de l'indicatif.\n",
      "19) Première personne du singulier du présent du subjonctif.\n",
      "20) Troisième personne du singulier du présent du subjonctif.\n",
      "21) Deuxième personne du singulier du présent de l'impératif.\n"
     ]
    }
   ],
   "source": [
    "mot = \"Livre\"\n",
    "D = raw.loc[raw['Mot'] == mot]['Définitions']\n",
    "D = eval(D.values[0])\n",
    "\n",
    "print(\"Mot : \", mot)\n",
    "for idx, definition in enumerate(D):\n",
    "    print(f\"{idx+1}) {definition}\")"
   ]
  },
  {
   "cell_type": "markdown",
   "metadata": {},
   "source": [
    "## Capitalisation\n",
    "\n",
    "Already we see a problem - all words are capitalised, however some words' meaning changes based on capitalisation, such as the constellation vs disease cancer.\n",
    "\n",
    "We assume the root of a word to be the uncapitalised form, unless it is a proper noun."
   ]
  },
  {
   "cell_type": "markdown",
   "metadata": {},
   "source": [
    "## Conclusion\n",
    " \n",
    "We'll lowercase everything and separate the defintions, we accept that dictionaries can be fallable. "
   ]
  },
  {
   "cell_type": "code",
   "execution_count": 6,
   "metadata": {},
   "outputs": [],
   "source": [
    "def lowercase_first_letter(s):\n",
    "    return s[0].lower() + s[1:] if s else s"
   ]
  },
  {
   "cell_type": "code",
   "execution_count": 7,
   "metadata": {},
   "outputs": [],
   "source": [
    "raw['Mot'] = raw['Mot'].apply(lowercase_first_letter) # lowercase\n",
    "raw.reset_index(inplace = True)"
   ]
  },
  {
   "cell_type": "code",
   "execution_count": 8,
   "metadata": {},
   "outputs": [
    {
     "data": {
      "text/html": [
       "<div>\n",
       "<style scoped>\n",
       "    .dataframe tbody tr th:only-of-type {\n",
       "        vertical-align: middle;\n",
       "    }\n",
       "\n",
       "    .dataframe tbody tr th {\n",
       "        vertical-align: top;\n",
       "    }\n",
       "\n",
       "    .dataframe thead th {\n",
       "        text-align: right;\n",
       "    }\n",
       "</style>\n",
       "<table border=\"1\" class=\"dataframe\">\n",
       "  <thead>\n",
       "    <tr style=\"text-align: right;\">\n",
       "      <th></th>\n",
       "      <th>index</th>\n",
       "      <th>Mot</th>\n",
       "      <th>Définitions</th>\n",
       "    </tr>\n",
       "  </thead>\n",
       "  <tbody>\n",
       "    <tr>\n",
       "      <th>220419</th>\n",
       "      <td>220419</td>\n",
       "      <td>étirasses</td>\n",
       "      <td>[\"Deuxième personne du singulier de l'imparfai...</td>\n",
       "    </tr>\n",
       "    <tr>\n",
       "      <th>540002</th>\n",
       "      <td>540002</td>\n",
       "      <td>charognasse</td>\n",
       "      <td>[\"Première personne du singulier de l'imparfai...</td>\n",
       "    </tr>\n",
       "    <tr>\n",
       "      <th>121706</th>\n",
       "      <td>121706</td>\n",
       "      <td>pégriots</td>\n",
       "      <td>['Masculin pluriel de pégriot.']</td>\n",
       "    </tr>\n",
       "  </tbody>\n",
       "</table>\n",
       "</div>"
      ],
      "text/plain": [
       "         index          Mot                                        Définitions\n",
       "220419  220419    étirasses  [\"Deuxième personne du singulier de l'imparfai...\n",
       "540002  540002  charognasse  [\"Première personne du singulier de l'imparfai...\n",
       "121706  121706     pégriots                   ['Masculin pluriel de pégriot.']"
      ]
     },
     "execution_count": 8,
     "metadata": {},
     "output_type": "execute_result"
    }
   ],
   "source": [
    "raw.sample(3)"
   ]
  },
  {
   "cell_type": "code",
   "execution_count": 9,
   "metadata": {},
   "outputs": [
    {
     "name": "stderr",
     "output_type": "stream",
     "text": [
      "C:\\Users\\Matthew\\anaconda3\\lib\\site-packages\\tqdm\\std.py:668: FutureWarning: The Panel class is removed from pandas. Accessing it from the top-level namespace will also be removed in the next version\n",
      "  from pandas import Panel\n",
      "Converting Definitions: 100%|███████████████████████████████████████████████| 973671/973671 [00:12<00:00, 77400.17it/s]\n"
     ]
    }
   ],
   "source": [
    "tqdm.pandas(desc=\"Converting Definitions\")\n",
    "raw['Définitions'] = raw['Définitions'].progress_apply(ast.literal_eval) # safer than eval\n",
    "\n",
    "# Explode the 'Définitions' list so each definition gets its own row\n",
    "\n",
    "expanded_raw = raw.explode('Définitions')"
   ]
  },
  {
   "cell_type": "code",
   "execution_count": 10,
   "metadata": {},
   "outputs": [],
   "source": [
    "expanded_raw = expanded_raw.sort_values('Mot').reset_index(drop = True)"
   ]
  },
  {
   "cell_type": "code",
   "execution_count": 11,
   "metadata": {},
   "outputs": [],
   "source": [
    "expanded_raw.drop([\"index\"], axis = 1, inplace = True)"
   ]
  },
  {
   "cell_type": "code",
   "execution_count": 12,
   "metadata": {},
   "outputs": [],
   "source": [
    "expanded_raw.reset_index(inplace = True)"
   ]
  },
  {
   "cell_type": "code",
   "execution_count": 13,
   "metadata": {},
   "outputs": [
    {
     "data": {
      "text/html": [
       "<div>\n",
       "<style scoped>\n",
       "    .dataframe tbody tr th:only-of-type {\n",
       "        vertical-align: middle;\n",
       "    }\n",
       "\n",
       "    .dataframe tbody tr th {\n",
       "        vertical-align: top;\n",
       "    }\n",
       "\n",
       "    .dataframe thead th {\n",
       "        text-align: right;\n",
       "    }\n",
       "</style>\n",
       "<table border=\"1\" class=\"dataframe\">\n",
       "  <thead>\n",
       "    <tr style=\"text-align: right;\">\n",
       "      <th></th>\n",
       "      <th>index</th>\n",
       "      <th>Mot</th>\n",
       "      <th>Définitions</th>\n",
       "    </tr>\n",
       "  </thead>\n",
       "  <tbody>\n",
       "    <tr>\n",
       "      <th>0</th>\n",
       "      <td>0</td>\n",
       "      <td>&amp;amp;</td>\n",
       "      <td>variante ortho de et.</td>\n",
       "    </tr>\n",
       "    <tr>\n",
       "      <th>1</th>\n",
       "      <td>1</td>\n",
       "      <td>&amp;amp;c.</td>\n",
       "      <td>variante ortho de etc.</td>\n",
       "    </tr>\n",
       "    <tr>\n",
       "      <th>2</th>\n",
       "      <td>2</td>\n",
       "      <td>'alif</td>\n",
       "      <td>variante ortho de alif.</td>\n",
       "    </tr>\n",
       "    <tr>\n",
       "      <th>3</th>\n",
       "      <td>3</td>\n",
       "      <td>'tain</td>\n",
       "      <td>Forme familière de putain.</td>\n",
       "    </tr>\n",
       "    <tr>\n",
       "      <th>4</th>\n",
       "      <td>4</td>\n",
       "      <td>'tis</td>\n",
       "      <td>Masculin pluriel de 'ti.</td>\n",
       "    </tr>\n",
       "  </tbody>\n",
       "</table>\n",
       "</div>"
      ],
      "text/plain": [
       "   index      Mot                 Définitions\n",
       "0      0    &amp;       variante ortho de et.\n",
       "1      1  &amp;c.      variante ortho de etc.\n",
       "2      2    'alif     variante ortho de alif.\n",
       "3      3    'tain  Forme familière de putain.\n",
       "4      4     'tis    Masculin pluriel de 'ti."
      ]
     },
     "execution_count": 13,
     "metadata": {},
     "output_type": "execute_result"
    }
   ],
   "source": [
    "expanded_raw.head()"
   ]
  },
  {
   "cell_type": "code",
   "execution_count": 14,
   "metadata": {},
   "outputs": [],
   "source": [
    "processed = expanded_raw.rename(columns = {\"index\" : \"ID\", \"Mot\" : \"Word\", \"Définitions\" : \"Definition\"})"
   ]
  },
  {
   "cell_type": "code",
   "execution_count": 15,
   "metadata": {},
   "outputs": [],
   "source": [
    "def remove_newline(s):\n",
    "    return s.replace('\\n', '')\n",
    "\n",
    "processed[\"Word\"] = processed[\"Word\"].apply(remove_newline)\n",
    "processed[\"Definition\"] = processed[\"Definition\"].apply(remove_newline)"
   ]
  },
  {
   "cell_type": "code",
   "execution_count": 16,
   "metadata": {},
   "outputs": [],
   "source": [
    "save_dir = \"../../../ProcessedData/Dictionaries/French/\"\n",
    "import os\n",
    "if not os.path.exists(save_dir):\n",
    "    os.makedirs(save_dir)"
   ]
  },
  {
   "cell_type": "code",
   "execution_count": 17,
   "metadata": {},
   "outputs": [],
   "source": [
    "processed.to_csv(save_dir + \"kartmann.csv\", encoding='utf-16', index=False)"
   ]
  }
 ],
 "metadata": {
  "kernelspec": {
   "display_name": "Python 3",
   "language": "python",
   "name": "python3"
  },
  "language_info": {
   "codemirror_mode": {
    "name": "ipython",
    "version": 3
   },
   "file_extension": ".py",
   "mimetype": "text/x-python",
   "name": "python",
   "nbconvert_exporter": "python",
   "pygments_lexer": "ipython3",
   "version": "3.8.3"
  }
 },
 "nbformat": 4,
 "nbformat_minor": 4
}
