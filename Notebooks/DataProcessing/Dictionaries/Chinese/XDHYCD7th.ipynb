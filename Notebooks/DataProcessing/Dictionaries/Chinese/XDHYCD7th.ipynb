{
 "cells": [
  {
   "cell_type": "markdown",
   "metadata": {},
   "source": [
    "# XDHYCD7th dictionary processing\n",
    "\n",
    "I found a Chinese dictionary here: https://github.com/CNMan/XDHYCD7th/blob/master/XDHYCD7th.txt\n",
    "\n",
    "In notebook I removed the preamble and postamble."
   ]
  },
  {
   "cell_type": "code",
   "execution_count": 1,
   "metadata": {},
   "outputs": [],
   "source": [
    "import pandas as pd\n",
    "from tqdm import tqdm\n",
    "import re"
   ]
  },
  {
   "cell_type": "code",
   "execution_count": 2,
   "metadata": {},
   "outputs": [],
   "source": [
    "fileName = \"../../../RawData/Dictionaries/Chinese/XDHyCD7th_stripped.txt\""
   ]
  },
  {
   "cell_type": "code",
   "execution_count": 3,
   "metadata": {},
   "outputs": [
    {
     "name": "stderr",
     "output_type": "stream",
     "text": [
      "Processing: 100%|████████████████████████████████████████████████████████████| 70414/70414 [00:00<00:00, 281392.74it/s]\n"
     ]
    },
    {
     "data": {
      "text/html": [
       "<div>\n",
       "<style scoped>\n",
       "    .dataframe tbody tr th:only-of-type {\n",
       "        vertical-align: middle;\n",
       "    }\n",
       "\n",
       "    .dataframe tbody tr th {\n",
       "        vertical-align: top;\n",
       "    }\n",
       "\n",
       "    .dataframe thead th {\n",
       "        text-align: right;\n",
       "    }\n",
       "</style>\n",
       "<table border=\"1\" class=\"dataframe\">\n",
       "  <thead>\n",
       "    <tr style=\"text-align: right;\">\n",
       "      <th></th>\n",
       "      <th>Hanzi</th>\n",
       "      <th>Pinyin</th>\n",
       "      <th>Definition</th>\n",
       "    </tr>\n",
       "  </thead>\n",
       "  <tbody>\n",
       "    <tr>\n",
       "      <th>0</th>\n",
       "      <td>吖</td>\n",
       "      <td>ā</td>\n",
       "      <td>见下。</td>\n",
       "    </tr>\n",
       "    <tr>\n",
       "      <th>1</th>\n",
       "      <td>吖嗪</td>\n",
       "      <td>āqín</td>\n",
       "      <td>〈名〉有机化合物的一类，呈环状结构，含有一个或几个氮原子，如吡啶、哒嗪、嘧啶等。[英azine]</td>\n",
       "    </tr>\n",
       "    <tr>\n",
       "      <th>2</th>\n",
       "      <td>阿</td>\n",
       "      <td>ā</td>\n",
       "      <td>〈方〉前缀。❶用在排行、小名或姓的前面，有亲昵的意味：～大｜～宝｜～唐。❷用在某些亲属名称的...</td>\n",
       "    </tr>\n",
       "    <tr>\n",
       "      <th>3</th>\n",
       "      <td>阿鼻地狱</td>\n",
       "      <td>ābídìyù</td>\n",
       "      <td>佛教指最深层的地狱，是犯了重罪的人死后灵魂永远受苦的地方。[阿鼻，梵avīci]</td>\n",
       "    </tr>\n",
       "    <tr>\n",
       "      <th>4</th>\n",
       "      <td>阿昌族</td>\n",
       "      <td>Āchānɡzú</td>\n",
       "      <td>〈名〉我国少数民族之一，分布在云南。</td>\n",
       "    </tr>\n",
       "  </tbody>\n",
       "</table>\n",
       "</div>"
      ],
      "text/plain": [
       "  Hanzi    Pinyin                                         Definition\n",
       "0     吖         ā                                                见下。\n",
       "1    吖嗪      āqín   〈名〉有机化合物的一类，呈环状结构，含有一个或几个氮原子，如吡啶、哒嗪、嘧啶等。[英azine]\n",
       "2     阿         ā  〈方〉前缀。❶用在排行、小名或姓的前面，有亲昵的意味：～大｜～宝｜～唐。❷用在某些亲属名称的...\n",
       "3  阿鼻地狱   ābídìyù           佛教指最深层的地狱，是犯了重罪的人死后灵魂永远受苦的地方。[阿鼻，梵avīci]\n",
       "4   阿昌族  Āchānɡzú                                 〈名〉我国少数民族之一，分布在云南。"
      ]
     },
     "execution_count": 3,
     "metadata": {},
     "output_type": "execute_result"
    }
   ],
   "source": [
    "# Initialize lists to store extracted data\n",
    "hanzi_list = []\n",
    "pinyin_list = []\n",
    "definition_list = []\n",
    "\n",
    "# Updated regular expression pattern to extract data\n",
    "pattern = r'【(.*?)】[^()]*?([A-Za-z0-9•ɑāáǎàēéěèīíǐìōóǒòūúǔùǖǘǚǜüńňǹɡĀÁǍÀĒÉĚÈĪÍǏÌŌÓǑÒŪÚǓÙǕǗǙǛÜŃŇǸ]*)(.*)'\n",
    "\n",
    "# Determine the total number of lines (for tqdm progress bar)\n",
    "with open(fileName, 'r', encoding='utf-8') as file:\n",
    "    total_lines = sum(1 for _ in file)\n",
    "\n",
    "# Read the file line by line and extract data\n",
    "with open(fileName, 'r', encoding='utf-8') as file:\n",
    "    for line in tqdm(file, total=total_lines, desc='Processing'):\n",
    "        match = re.match(pattern, line)\n",
    "        \n",
    "        if not match:\n",
    "            print(line)\n",
    "        \n",
    "        if match:\n",
    "            hanzi, pinyin, definition = match.groups()\n",
    "            hanzi_list.append(hanzi)\n",
    "            pinyin_list.append(pinyin)\n",
    "            definition_list.append(definition)\n",
    "\n",
    "# Create a DataFrame\n",
    "raw = pd.DataFrame({\n",
    "    'Hanzi': hanzi_list,\n",
    "    'Pinyin': pinyin_list,\n",
    "    'Definition': definition_list\n",
    "})\n",
    "\n",
    "# Display the DataFrame\n",
    "raw.head()"
   ]
  },
  {
   "cell_type": "code",
   "execution_count": 4,
   "metadata": {},
   "outputs": [
    {
     "data": {
      "text/html": [
       "<div>\n",
       "<style scoped>\n",
       "    .dataframe tbody tr th:only-of-type {\n",
       "        vertical-align: middle;\n",
       "    }\n",
       "\n",
       "    .dataframe tbody tr th {\n",
       "        vertical-align: top;\n",
       "    }\n",
       "\n",
       "    .dataframe thead th {\n",
       "        text-align: right;\n",
       "    }\n",
       "</style>\n",
       "<table border=\"1\" class=\"dataframe\">\n",
       "  <thead>\n",
       "    <tr style=\"text-align: right;\">\n",
       "      <th></th>\n",
       "      <th>Hanzi</th>\n",
       "      <th>Pinyin</th>\n",
       "      <th>Definition</th>\n",
       "    </tr>\n",
       "  </thead>\n",
       "  <tbody>\n",
       "    <tr>\n",
       "      <th>56844</th>\n",
       "      <td>襄理</td>\n",
       "      <td>xiānɡlǐ</td>\n",
       "      <td>❶〈书〉〈动〉帮助办理：～军务。❷〈名〉规模较大的银行或企业中协助经理主持业务的人，地位次于协理。</td>\n",
       "    </tr>\n",
       "  </tbody>\n",
       "</table>\n",
       "</div>"
      ],
      "text/plain": [
       "      Hanzi   Pinyin                                         Definition\n",
       "56844    襄理  xiānɡlǐ  ❶〈书〉〈动〉帮助办理：～军务。❷〈名〉规模较大的银行或企业中协助经理主持业务的人，地位次于协理。"
      ]
     },
     "execution_count": 4,
     "metadata": {},
     "output_type": "execute_result"
    }
   ],
   "source": [
    "raw[raw.Hanzi == '襄理']"
   ]
  },
  {
   "cell_type": "code",
   "execution_count": 5,
   "metadata": {},
   "outputs": [
    {
     "data": {
      "text/html": [
       "<div>\n",
       "<style scoped>\n",
       "    .dataframe tbody tr th:only-of-type {\n",
       "        vertical-align: middle;\n",
       "    }\n",
       "\n",
       "    .dataframe tbody tr th {\n",
       "        vertical-align: top;\n",
       "    }\n",
       "\n",
       "    .dataframe thead th {\n",
       "        text-align: right;\n",
       "    }\n",
       "</style>\n",
       "<table border=\"1\" class=\"dataframe\">\n",
       "  <thead>\n",
       "    <tr style=\"text-align: right;\">\n",
       "      <th></th>\n",
       "      <th>Hanzi</th>\n",
       "      <th>Pinyin</th>\n",
       "      <th>Definition</th>\n",
       "    </tr>\n",
       "  </thead>\n",
       "  <tbody>\n",
       "    <tr>\n",
       "      <th>70410</th>\n",
       "      <td>做证</td>\n",
       "      <td></td>\n",
       "      <td></td>\n",
       "    </tr>\n",
       "  </tbody>\n",
       "</table>\n",
       "</div>"
      ],
      "text/plain": [
       "      Hanzi Pinyin Definition\n",
       "70410    做证                  "
      ]
     },
     "execution_count": 5,
     "metadata": {},
     "output_type": "execute_result"
    }
   ],
   "source": [
    "raw[raw.Hanzi == '做证']"
   ]
  },
  {
   "cell_type": "markdown",
   "metadata": {},
   "source": [
    "## Different meanings\n",
    "\n",
    "These are disambiguated using number icons, teasing apart each different meaning might take a little while."
   ]
  },
  {
   "cell_type": "markdown",
   "metadata": {},
   "source": [
    "## Pinyin\n",
    "\n",
    "right now this is separate, a treatment of phonetic display hasn't been considered yet, for now lets just add it to the definition and consider that problem later."
   ]
  },
  {
   "cell_type": "markdown",
   "metadata": {},
   "source": [
    "## Conclusion\n",
    " \n",
    "Splitting the dictionary on the markers and integrating the pinyin should do for now "
   ]
  },
  {
   "cell_type": "markdown",
   "metadata": {},
   "source": [
    "## 见下  - \"see below\"\n",
    "\n",
    "Sometimes this happens, we'll strip out those, since it is implied that in no way reduces the amount of information"
   ]
  },
  {
   "cell_type": "markdown",
   "metadata": {},
   "source": [
    "## Missing definitions\n",
    "\n",
    "some words such as 做证 don't have a definition, we'll skip those"
   ]
  },
  {
   "cell_type": "code",
   "execution_count": 6,
   "metadata": {},
   "outputs": [],
   "source": [
    "# Regular expression pattern for disambiguation markers\n",
    "markers_pattern = r'(❶|❷|❸|❹|❺|❻|❼|❽|❾|❿|⓫|⓬|⓭|⓮|⓯|⓰|⓱|⓲|⓳|⓴|①|②|③|④|⑤|⑥|⑦|⑧|⑨|⑩|⑪|⑫|⑬|⑭|⑮|⑯|⑰|⑱|⑲|⑳|㉑|㉒|㉓|㉔|㉕|㉖|㉗|㉘|㉙|㉚|㉛|㉜|㉝|㉞|㉟|㊱|㊲|㊳|㊴|㊵|㊶|㊷|㊸|㊹|㊺|㊻|㊼|㊽|㊾|㊿)'\n",
    "\n",
    "\n",
    "# Split the definitions into lists\n",
    "def split_definitions(definition):\n",
    "    parts = re.split(markers_pattern, definition)\n",
    "    if len(parts) <= 1:  # No markers found, keep the definition as is\n",
    "        return [definition]\n",
    "\n",
    "    initial_description = parts[0] if not re.match(markers_pattern, parts[0]) else ''\n",
    "    \n",
    "    # Sometimes there is stuff before the disambiguation, for now we prepend it to all the parts\n",
    "    if (initial_description != ''):\n",
    "        split_definitions = [initial_description + parts[i] for i in range(2, len(parts), 2) if parts[i]]\n",
    "    else:\n",
    "        split_definitions = [part for part in parts[::2] if not part.isspace()]\n",
    "\n",
    "    return split_definitions\n",
    "\n",
    "\n",
    "raw['Definition'] = raw['Definition'].apply(split_definitions)\n",
    "\n",
    "# Explode the lists into separate rows\n",
    "raw_exploded = raw.explode('Definition')"
   ]
  },
  {
   "cell_type": "code",
   "execution_count": 7,
   "metadata": {},
   "outputs": [],
   "source": [
    "raw_exploded = raw_exploded[raw_exploded.Definition != \"。\"]\n",
    "raw_exploded = raw_exploded[raw_exploded.Definition != \"\"]"
   ]
  },
  {
   "cell_type": "code",
   "execution_count": 8,
   "metadata": {},
   "outputs": [],
   "source": [
    "raw_exploded[\"Definition\"] = raw_exploded[\"Pinyin\"] + \"。\" + raw_exploded[\"Definition\"]"
   ]
  },
  {
   "cell_type": "code",
   "execution_count": 9,
   "metadata": {},
   "outputs": [
    {
     "data": {
      "text/html": [
       "<div>\n",
       "<style scoped>\n",
       "    .dataframe tbody tr th:only-of-type {\n",
       "        vertical-align: middle;\n",
       "    }\n",
       "\n",
       "    .dataframe tbody tr th {\n",
       "        vertical-align: top;\n",
       "    }\n",
       "\n",
       "    .dataframe thead th {\n",
       "        text-align: right;\n",
       "    }\n",
       "</style>\n",
       "<table border=\"1\" class=\"dataframe\">\n",
       "  <thead>\n",
       "    <tr style=\"text-align: right;\">\n",
       "      <th></th>\n",
       "      <th>Hanzi</th>\n",
       "      <th>Pinyin</th>\n",
       "      <th>Definition</th>\n",
       "    </tr>\n",
       "  </thead>\n",
       "  <tbody>\n",
       "    <tr>\n",
       "      <th>33919</th>\n",
       "      <td>辘</td>\n",
       "      <td></td>\n",
       "      <td>。（轆）lù见下。</td>\n",
       "    </tr>\n",
       "    <tr>\n",
       "      <th>40179</th>\n",
       "      <td>笸</td>\n",
       "      <td>pǒ</td>\n",
       "      <td>pǒ。见下。</td>\n",
       "    </tr>\n",
       "    <tr>\n",
       "      <th>34950</th>\n",
       "      <td>牤</td>\n",
       "      <td></td>\n",
       "      <td>。（𤛘）mānɡ见下。</td>\n",
       "    </tr>\n",
       "  </tbody>\n",
       "</table>\n",
       "</div>"
      ],
      "text/plain": [
       "      Hanzi Pinyin   Definition\n",
       "33919     辘           。（轆）lù见下。\n",
       "40179     笸     pǒ       pǒ。见下。\n",
       "34950     牤         。（𤛘）mānɡ见下。"
      ]
     },
     "execution_count": 9,
     "metadata": {},
     "output_type": "execute_result"
    }
   ],
   "source": [
    "raw_exploded[raw_exploded.Definition.apply(lambda s : s[-3:] == \"见下。\")].sample(3)"
   ]
  },
  {
   "cell_type": "code",
   "execution_count": 10,
   "metadata": {},
   "outputs": [],
   "source": [
    "raw_exploded = raw_exploded[raw_exploded.Definition.apply(lambda s : s[-3:] != \"见下。\")] # drop \"see belows\""
   ]
  },
  {
   "cell_type": "code",
   "execution_count": 11,
   "metadata": {},
   "outputs": [],
   "source": [
    "raw_exploded = raw_exploded.drop(columns = [\"Pinyin\"]).reset_index(drop = True).reset_index()"
   ]
  },
  {
   "cell_type": "code",
   "execution_count": 12,
   "metadata": {},
   "outputs": [
    {
     "data": {
      "text/html": [
       "<div>\n",
       "<style scoped>\n",
       "    .dataframe tbody tr th:only-of-type {\n",
       "        vertical-align: middle;\n",
       "    }\n",
       "\n",
       "    .dataframe tbody tr th {\n",
       "        vertical-align: top;\n",
       "    }\n",
       "\n",
       "    .dataframe thead th {\n",
       "        text-align: right;\n",
       "    }\n",
       "</style>\n",
       "<table border=\"1\" class=\"dataframe\">\n",
       "  <thead>\n",
       "    <tr style=\"text-align: right;\">\n",
       "      <th></th>\n",
       "      <th>index</th>\n",
       "      <th>Hanzi</th>\n",
       "      <th>Definition</th>\n",
       "    </tr>\n",
       "  </thead>\n",
       "  <tbody>\n",
       "    <tr>\n",
       "      <th>31097</th>\n",
       "      <td>31097</td>\n",
       "      <td>茄</td>\n",
       "      <td>jiā。见【茄克】、1548页【雪茄】。另见1102页qié。</td>\n",
       "    </tr>\n",
       "    <tr>\n",
       "      <th>38528</th>\n",
       "      <td>38528</td>\n",
       "      <td>来归</td>\n",
       "      <td>láiɡuī。〈动〉古代称女子出嫁（从夫家方面说）。</td>\n",
       "    </tr>\n",
       "    <tr>\n",
       "      <th>82482</th>\n",
       "      <td>82482</td>\n",
       "      <td>震</td>\n",
       "      <td>zhèn。〈动〉特指地震：～源｜防～棚｜又连着～了几次。</td>\n",
       "    </tr>\n",
       "    <tr>\n",
       "      <th>10933</th>\n",
       "      <td>10933</td>\n",
       "      <td>词性</td>\n",
       "      <td>cíxìnɡ。〈名〉作为划分词类的根据的词的特点，如“一把锯”的“锯”可以跟数量词结合，是名...</td>\n",
       "    </tr>\n",
       "    <tr>\n",
       "      <th>36396</th>\n",
       "      <td>36396</td>\n",
       "      <td>看</td>\n",
       "      <td>kān。〈动〉守护照料：～门｜～自行车｜一个工人可以～好几台机器。</td>\n",
       "    </tr>\n",
       "  </tbody>\n",
       "</table>\n",
       "</div>"
      ],
      "text/plain": [
       "       index Hanzi                                         Definition\n",
       "31097  31097     茄                    jiā。见【茄克】、1548页【雪茄】。另见1102页qié。\n",
       "38528  38528    来归                         láiɡuī。〈动〉古代称女子出嫁（从夫家方面说）。\n",
       "82482  82482     震                       zhèn。〈动〉特指地震：～源｜防～棚｜又连着～了几次。\n",
       "10933  10933    词性  cíxìnɡ。〈名〉作为划分词类的根据的词的特点，如“一把锯”的“锯”可以跟数量词结合，是名...\n",
       "36396  36396     看                  kān。〈动〉守护照料：～门｜～自行车｜一个工人可以～好几台机器。"
      ]
     },
     "execution_count": 12,
     "metadata": {},
     "output_type": "execute_result"
    }
   ],
   "source": [
    "raw_exploded.sample(5)"
   ]
  },
  {
   "cell_type": "code",
   "execution_count": 13,
   "metadata": {},
   "outputs": [],
   "source": [
    "processed = raw_exploded.rename(columns = {\"index\" : \"ID\", \"Hanzi\" : \"Word\"})"
   ]
  },
  {
   "cell_type": "code",
   "execution_count": 14,
   "metadata": {},
   "outputs": [
    {
     "data": {
      "text/html": [
       "<div>\n",
       "<style scoped>\n",
       "    .dataframe tbody tr th:only-of-type {\n",
       "        vertical-align: middle;\n",
       "    }\n",
       "\n",
       "    .dataframe tbody tr th {\n",
       "        vertical-align: top;\n",
       "    }\n",
       "\n",
       "    .dataframe thead th {\n",
       "        text-align: right;\n",
       "    }\n",
       "</style>\n",
       "<table border=\"1\" class=\"dataframe\">\n",
       "  <thead>\n",
       "    <tr style=\"text-align: right;\">\n",
       "      <th></th>\n",
       "      <th>ID</th>\n",
       "      <th>Word</th>\n",
       "      <th>Definition</th>\n",
       "    </tr>\n",
       "  </thead>\n",
       "  <tbody>\n",
       "    <tr>\n",
       "      <th>0</th>\n",
       "      <td>0</td>\n",
       "      <td>吖嗪</td>\n",
       "      <td>āqín。〈名〉有机化合物的一类，呈环状结构，含有一个或几个氮原子，如吡啶、哒嗪、嘧啶等。[...</td>\n",
       "    </tr>\n",
       "    <tr>\n",
       "      <th>1</th>\n",
       "      <td>1</td>\n",
       "      <td>阿</td>\n",
       "      <td>ā。〈方〉前缀。用在排行、小名或姓的前面，有亲昵的意味：～大｜～宝｜～唐。</td>\n",
       "    </tr>\n",
       "    <tr>\n",
       "      <th>2</th>\n",
       "      <td>2</td>\n",
       "      <td>阿</td>\n",
       "      <td>ā。〈方〉前缀。用在某些亲属名称的前面：～婆｜～爸｜～哥。另见2页•ɑ；339页ē。</td>\n",
       "    </tr>\n",
       "    <tr>\n",
       "      <th>3</th>\n",
       "      <td>3</td>\n",
       "      <td>阿鼻地狱</td>\n",
       "      <td>ābídìyù。佛教指最深层的地狱，是犯了重罪的人死后灵魂永远受苦的地方。[阿鼻，梵avīci]</td>\n",
       "    </tr>\n",
       "    <tr>\n",
       "      <th>4</th>\n",
       "      <td>4</td>\n",
       "      <td>阿昌族</td>\n",
       "      <td>Āchānɡzú。〈名〉我国少数民族之一，分布在云南。</td>\n",
       "    </tr>\n",
       "  </tbody>\n",
       "</table>\n",
       "</div>"
      ],
      "text/plain": [
       "   ID  Word                                         Definition\n",
       "0   0    吖嗪  āqín。〈名〉有机化合物的一类，呈环状结构，含有一个或几个氮原子，如吡啶、哒嗪、嘧啶等。[...\n",
       "1   1     阿              ā。〈方〉前缀。用在排行、小名或姓的前面，有亲昵的意味：～大｜～宝｜～唐。\n",
       "2   2     阿         ā。〈方〉前缀。用在某些亲属名称的前面：～婆｜～爸｜～哥。另见2页•ɑ；339页ē。\n",
       "3   3  阿鼻地狱   ābídìyù。佛教指最深层的地狱，是犯了重罪的人死后灵魂永远受苦的地方。[阿鼻，梵avīci]\n",
       "4   4   阿昌族                        Āchānɡzú。〈名〉我国少数民族之一，分布在云南。"
      ]
     },
     "execution_count": 14,
     "metadata": {},
     "output_type": "execute_result"
    }
   ],
   "source": [
    "processed.head()"
   ]
  },
  {
   "cell_type": "code",
   "execution_count": 15,
   "metadata": {},
   "outputs": [],
   "source": [
    "save_dir = \"../../../ProcessedData/Dictionaries/Chinese/\"\n",
    "import os\n",
    "if not os.path.exists(save_dir):\n",
    "    os.makedirs(save_dir)"
   ]
  },
  {
   "cell_type": "code",
   "execution_count": 16,
   "metadata": {},
   "outputs": [],
   "source": [
    "processed.to_csv(save_dir + \"XDHyCD7th.csv\", encoding='utf-16', index=False)"
   ]
  }
 ],
 "metadata": {
  "kernelspec": {
   "display_name": "Python 3",
   "language": "python",
   "name": "python3"
  },
  "language_info": {
   "codemirror_mode": {
    "name": "ipython",
    "version": 3
   },
   "file_extension": ".py",
   "mimetype": "text/x-python",
   "name": "python",
   "nbconvert_exporter": "python",
   "pygments_lexer": "ipython3",
   "version": "3.8.3"
  }
 },
 "nbformat": 4,
 "nbformat_minor": 4
}
