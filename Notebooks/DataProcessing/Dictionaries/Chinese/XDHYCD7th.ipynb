{
 "cells": [
  {
   "cell_type": "markdown",
   "metadata": {},
   "source": [
    "# XDHYCD7th dictionary processing\n",
    "\n",
    "I found a Chinese dictionary here: https://github.com/CNMan/XDHYCD7th/blob/master/XDHYCD7th.txt\n",
    "\n",
    "In notebook I removed the preamble and postamble."
   ]
  },
  {
   "cell_type": "markdown",
   "metadata": {},
   "source": [
    "Preamble:\n",
    "\n",
    "拟在“华宇拼音输入法论坛”网友wangyanhan制作的《现代汉语词典》第5版全文TXT基础上更新到《现代汉语词典》第7版\n",
    "项目地址：https://github.com/CNMan/XDHYCD7th\n",
    "欢迎各路网友参与、协作修订\n",
    "原则上字、词头只增不减（即不删除新版删掉的字、词头），字、词头释义合并除外\n",
    "备用黑色圆圈数字：❶❷❸❹❺❻❼❽❾❿⓫⓬⓭⓮⓯⓰⓱⓲⓳⓴\n",
    "备用白色圆圈数字：①②③④⑤⑥⑦⑧⑨⑩⑪⑫⑬⑭⑮⑯⑰⑱⑲⑳㉑㉒㉓㉔㉕㉖㉗㉘㉙㉚㉛㉜㉝㉞㉟㊱㊲㊳㊴㊵㊶㊷㊸㊹㊺㊻㊼㊽㊾㊿\n",
    "备用上标数字：⁰¹²³⁴⁵⁶⁷⁸⁹\n",
    "备用下标数字：₀₁₂₃₄₅₆₇₈₉\n",
    "备用汉语拼音小写：āáǎàōóǒòēéěèīíǐìūúǔùüǖǘǚǜêê̄ếê̌ềm̄ḿm̀ńňǹẑĉŝŋ\n",
    "备用汉语拼音大写：ĀÁǍÀŌÓǑÒĒÉĚÈĪÍǏÌŪÚǓÙÜǕǗǙǛÊÊ̄ẾÊ̌ỀM̄ḾM̀ŃŇǸẐĈŜŊ\n",
    "━━━━━━━━━━━━━━━\n",
    "《现代汉语词典》（第7版）全文TXT\n",
    "━━━━━━━━━━━━━━━\n"
   ]
  },
  {
   "cell_type": "markdown",
   "metadata": {},
   "source": [
    "postamble is just an empty line"
   ]
  },
  {
   "cell_type": "code",
   "execution_count": 6,
   "metadata": {},
   "outputs": [],
   "source": [
    "import pandas as pd\n",
    "from tqdm import tqdm\n",
    "import re"
   ]
  },
  {
   "cell_type": "code",
   "execution_count": 7,
   "metadata": {},
   "outputs": [],
   "source": [
    "fileName = \"../../../RawData/Dictionaries/Chinese/XDHyCD7th_stripped.txt\""
   ]
  },
  {
   "cell_type": "code",
   "execution_count": 8,
   "metadata": {},
   "outputs": [
    {
     "name": "stderr",
     "output_type": "stream",
     "text": [
      "Processing: 100%|█████████████████████████████████████████████████████████████| 70414/70414 [00:00<00:00, 228307.36it/s]\n"
     ]
    },
    {
     "data": {
      "text/html": [
       "<div>\n",
       "<style scoped>\n",
       "    .dataframe tbody tr th:only-of-type {\n",
       "        vertical-align: middle;\n",
       "    }\n",
       "\n",
       "    .dataframe tbody tr th {\n",
       "        vertical-align: top;\n",
       "    }\n",
       "\n",
       "    .dataframe thead th {\n",
       "        text-align: right;\n",
       "    }\n",
       "</style>\n",
       "<table border=\"1\" class=\"dataframe\">\n",
       "  <thead>\n",
       "    <tr style=\"text-align: right;\">\n",
       "      <th></th>\n",
       "      <th>Hanzi</th>\n",
       "      <th>Pinyin</th>\n",
       "      <th>Definition</th>\n",
       "    </tr>\n",
       "  </thead>\n",
       "  <tbody>\n",
       "    <tr>\n",
       "      <th>0</th>\n",
       "      <td>吖</td>\n",
       "      <td>ā</td>\n",
       "      <td>见下。</td>\n",
       "    </tr>\n",
       "    <tr>\n",
       "      <th>1</th>\n",
       "      <td>吖嗪</td>\n",
       "      <td>āqín</td>\n",
       "      <td>〈名〉有机化合物的一类，呈环状结构，含有一个或几个氮原子，如吡啶、哒嗪、嘧啶等。[英azine]</td>\n",
       "    </tr>\n",
       "    <tr>\n",
       "      <th>2</th>\n",
       "      <td>阿</td>\n",
       "      <td>ā</td>\n",
       "      <td>〈方〉前缀。❶用在排行、小名或姓的前面，有亲昵的意味：～大｜～宝｜～唐。❷用在某些亲属名称的...</td>\n",
       "    </tr>\n",
       "    <tr>\n",
       "      <th>3</th>\n",
       "      <td>阿鼻地狱</td>\n",
       "      <td>ābídìyù</td>\n",
       "      <td>佛教指最深层的地狱，是犯了重罪的人死后灵魂永远受苦的地方。[阿鼻，梵avīci]</td>\n",
       "    </tr>\n",
       "    <tr>\n",
       "      <th>4</th>\n",
       "      <td>阿昌族</td>\n",
       "      <td>Āchānɡzú</td>\n",
       "      <td>〈名〉我国少数民族之一，分布在云南。</td>\n",
       "    </tr>\n",
       "  </tbody>\n",
       "</table>\n",
       "</div>"
      ],
      "text/plain": [
       "  Hanzi    Pinyin                                         Definition\n",
       "0     吖         ā                                                见下。\n",
       "1    吖嗪      āqín   〈名〉有机化合物的一类，呈环状结构，含有一个或几个氮原子，如吡啶、哒嗪、嘧啶等。[英azine]\n",
       "2     阿         ā  〈方〉前缀。❶用在排行、小名或姓的前面，有亲昵的意味：～大｜～宝｜～唐。❷用在某些亲属名称的...\n",
       "3  阿鼻地狱   ābídìyù           佛教指最深层的地狱，是犯了重罪的人死后灵魂永远受苦的地方。[阿鼻，梵avīci]\n",
       "4   阿昌族  Āchānɡzú                                 〈名〉我国少数民族之一，分布在云南。"
      ]
     },
     "execution_count": 8,
     "metadata": {},
     "output_type": "execute_result"
    }
   ],
   "source": [
    "# Initialize lists to store extracted data\n",
    "hanzi_list = []\n",
    "pinyin_list = []\n",
    "definition_list = []\n",
    "\n",
    "# Updated regular expression pattern to extract data\n",
    "pattern = r'【(.*?)】[^()]*?([A-Za-z0-9•ɑāáǎàēéěèīíǐìōóǒòūúǔùǖǘǚǜüńňǹɡĀÁǍÀĒÉĚÈĪÍǏÌŌÓǑÒŪÚǓÙǕǗǙǛÜŃŇǸ]*)(.*)'\n",
    "\n",
    "# Determine the total number of lines (for tqdm progress bar)\n",
    "with open(fileName, 'r', encoding='utf-8') as file:\n",
    "    total_lines = sum(1 for _ in file)\n",
    "\n",
    "# Read the file line by line and extract data\n",
    "with open(fileName, 'r', encoding='utf-8') as file:\n",
    "    for line in tqdm(file, total=total_lines, desc='Processing'):\n",
    "        match = re.match(pattern, line)\n",
    "        \n",
    "        if not match:\n",
    "            print(line)\n",
    "        \n",
    "        if match:\n",
    "            hanzi, pinyin, definition = match.groups()\n",
    "            hanzi_list.append(hanzi)\n",
    "            pinyin_list.append(pinyin)\n",
    "            definition_list.append(definition)\n",
    "\n",
    "# Create a DataFrame\n",
    "raw = pd.DataFrame({\n",
    "    'Hanzi': hanzi_list,\n",
    "    'Pinyin': pinyin_list,\n",
    "    'Definition': definition_list\n",
    "})\n",
    "\n",
    "# Display the DataFrame\n",
    "raw.head()"
   ]
  },
  {
   "cell_type": "code",
   "execution_count": 9,
   "metadata": {},
   "outputs": [
    {
     "data": {
      "text/html": [
       "<div>\n",
       "<style scoped>\n",
       "    .dataframe tbody tr th:only-of-type {\n",
       "        vertical-align: middle;\n",
       "    }\n",
       "\n",
       "    .dataframe tbody tr th {\n",
       "        vertical-align: top;\n",
       "    }\n",
       "\n",
       "    .dataframe thead th {\n",
       "        text-align: right;\n",
       "    }\n",
       "</style>\n",
       "<table border=\"1\" class=\"dataframe\">\n",
       "  <thead>\n",
       "    <tr style=\"text-align: right;\">\n",
       "      <th></th>\n",
       "      <th>Hanzi</th>\n",
       "      <th>Pinyin</th>\n",
       "      <th>Definition</th>\n",
       "    </tr>\n",
       "  </thead>\n",
       "  <tbody>\n",
       "    <tr>\n",
       "      <th>56844</th>\n",
       "      <td>襄理</td>\n",
       "      <td>xiānɡlǐ</td>\n",
       "      <td>❶〈书〉〈动〉帮助办理：～军务。❷〈名〉规模较大的银行或企业中协助经理主持业务的人，地位次于协理。</td>\n",
       "    </tr>\n",
       "  </tbody>\n",
       "</table>\n",
       "</div>"
      ],
      "text/plain": [
       "      Hanzi   Pinyin                                         Definition\n",
       "56844    襄理  xiānɡlǐ  ❶〈书〉〈动〉帮助办理：～军务。❷〈名〉规模较大的银行或企业中协助经理主持业务的人，地位次于协理。"
      ]
     },
     "execution_count": 9,
     "metadata": {},
     "output_type": "execute_result"
    }
   ],
   "source": [
    "raw[raw.Hanzi == '襄理']"
   ]
  },
  {
   "cell_type": "code",
   "execution_count": 10,
   "metadata": {},
   "outputs": [
    {
     "data": {
      "text/html": [
       "<div>\n",
       "<style scoped>\n",
       "    .dataframe tbody tr th:only-of-type {\n",
       "        vertical-align: middle;\n",
       "    }\n",
       "\n",
       "    .dataframe tbody tr th {\n",
       "        vertical-align: top;\n",
       "    }\n",
       "\n",
       "    .dataframe thead th {\n",
       "        text-align: right;\n",
       "    }\n",
       "</style>\n",
       "<table border=\"1\" class=\"dataframe\">\n",
       "  <thead>\n",
       "    <tr style=\"text-align: right;\">\n",
       "      <th></th>\n",
       "      <th>Hanzi</th>\n",
       "      <th>Pinyin</th>\n",
       "      <th>Definition</th>\n",
       "    </tr>\n",
       "  </thead>\n",
       "  <tbody>\n",
       "    <tr>\n",
       "      <th>70410</th>\n",
       "      <td>做证</td>\n",
       "      <td></td>\n",
       "      <td></td>\n",
       "    </tr>\n",
       "  </tbody>\n",
       "</table>\n",
       "</div>"
      ],
      "text/plain": [
       "      Hanzi Pinyin Definition\n",
       "70410    做证                  "
      ]
     },
     "execution_count": 10,
     "metadata": {},
     "output_type": "execute_result"
    }
   ],
   "source": [
    "raw[raw.Hanzi == '做证']"
   ]
  },
  {
   "cell_type": "markdown",
   "metadata": {},
   "source": [
    "## Different meanings\n",
    "\n",
    "These are disambiguated using number icons, teasing apart each different meaning might take a little while."
   ]
  },
  {
   "cell_type": "markdown",
   "metadata": {},
   "source": [
    "## Pinyin\n",
    "\n",
    "right now this is separate, a treatment of phonetic display hasn't been considered yet, for now lets just add it to the definition and consider that problem later."
   ]
  },
  {
   "cell_type": "markdown",
   "metadata": {},
   "source": [
    "## Conclusion\n",
    " \n",
    "Splitting the dictionary on the markers and integrating the pinyin should do for now "
   ]
  },
  {
   "cell_type": "markdown",
   "metadata": {},
   "source": [
    "## 见下  - \"see below\"\n",
    "\n",
    "Sometimes this happens, we'll strip out those, since it is implied that in no way reduces the amount of information"
   ]
  },
  {
   "cell_type": "markdown",
   "metadata": {},
   "source": [
    "## Missing definitions\n",
    "\n",
    "some words such as 做证 don't have a definition, we'll skip those"
   ]
  },
  {
   "cell_type": "code",
   "execution_count": 11,
   "metadata": {},
   "outputs": [],
   "source": [
    "# Regular expression pattern for disambiguation markers\n",
    "markers_pattern = r'(❶|❷|❸|❹|❺|❻|❼|❽|❾|❿|⓫|⓬|⓭|⓮|⓯|⓰|⓱|⓲|⓳|⓴|①|②|③|④|⑤|⑥|⑦|⑧|⑨|⑩|⑪|⑫|⑬|⑭|⑮|⑯|⑰|⑱|⑲|⑳|㉑|㉒|㉓|㉔|㉕|㉖|㉗|㉘|㉙|㉚|㉛|㉜|㉝|㉞|㉟|㊱|㊲|㊳|㊴|㊵|㊶|㊷|㊸|㊹|㊺|㊻|㊼|㊽|㊾|㊿)'\n",
    "\n",
    "\n",
    "# Split the definitions into lists\n",
    "def split_definitions(definition):\n",
    "    parts = re.split(markers_pattern, definition)\n",
    "    if len(parts) <= 1:  # No markers found, keep the definition as is\n",
    "        return [definition]\n",
    "\n",
    "    initial_description = parts[0] if not re.match(markers_pattern, parts[0]) else ''\n",
    "    \n",
    "    # Sometimes there is stuff before the disambiguation, for now we prepend it to all the parts\n",
    "    if (initial_description != ''):\n",
    "        split_definitions = [initial_description + parts[i] for i in range(2, len(parts), 2) if parts[i]]\n",
    "    else:\n",
    "        split_definitions = [part for part in parts[::2] if not part.isspace()]\n",
    "\n",
    "    return split_definitions\n",
    "\n",
    "\n",
    "raw['Definition'] = raw['Definition'].apply(split_definitions)\n",
    "\n",
    "# Explode the lists into separate rows\n",
    "raw_exploded = raw.explode('Definition')"
   ]
  },
  {
   "cell_type": "code",
   "execution_count": 12,
   "metadata": {},
   "outputs": [],
   "source": [
    "raw_exploded = raw_exploded[raw_exploded.Definition != \"。\"]\n",
    "raw_exploded = raw_exploded[raw_exploded.Definition != \"\"]"
   ]
  },
  {
   "cell_type": "code",
   "execution_count": 13,
   "metadata": {},
   "outputs": [],
   "source": [
    "raw_exploded[\"Definition\"] = raw_exploded[\"Pinyin\"] + \"。\" + raw_exploded[\"Definition\"]"
   ]
  },
  {
   "cell_type": "code",
   "execution_count": 14,
   "metadata": {},
   "outputs": [
    {
     "data": {
      "text/html": [
       "<div>\n",
       "<style scoped>\n",
       "    .dataframe tbody tr th:only-of-type {\n",
       "        vertical-align: middle;\n",
       "    }\n",
       "\n",
       "    .dataframe tbody tr th {\n",
       "        vertical-align: top;\n",
       "    }\n",
       "\n",
       "    .dataframe thead th {\n",
       "        text-align: right;\n",
       "    }\n",
       "</style>\n",
       "<table border=\"1\" class=\"dataframe\">\n",
       "  <thead>\n",
       "    <tr style=\"text-align: right;\">\n",
       "      <th></th>\n",
       "      <th>Hanzi</th>\n",
       "      <th>Pinyin</th>\n",
       "      <th>Definition</th>\n",
       "    </tr>\n",
       "  </thead>\n",
       "  <tbody>\n",
       "    <tr>\n",
       "      <th>191</th>\n",
       "      <td>叆</td>\n",
       "      <td></td>\n",
       "      <td>。（靉）ài见下。</td>\n",
       "    </tr>\n",
       "    <tr>\n",
       "      <th>17587</th>\n",
       "      <td>虼</td>\n",
       "      <td>ɡè</td>\n",
       "      <td>ɡè。见下。</td>\n",
       "    </tr>\n",
       "    <tr>\n",
       "      <th>3794</th>\n",
       "      <td>哱</td>\n",
       "      <td>bō</td>\n",
       "      <td>bō。见下。</td>\n",
       "    </tr>\n",
       "  </tbody>\n",
       "</table>\n",
       "</div>"
      ],
      "text/plain": [
       "      Hanzi Pinyin Definition\n",
       "191       叆         。（靉）ài见下。\n",
       "17587     虼     ɡè     ɡè。见下。\n",
       "3794      哱     bō     bō。见下。"
      ]
     },
     "execution_count": 14,
     "metadata": {},
     "output_type": "execute_result"
    }
   ],
   "source": [
    "raw_exploded[raw_exploded.Definition.apply(lambda s : s[-3:] == \"见下。\")].sample(3)"
   ]
  },
  {
   "cell_type": "code",
   "execution_count": 15,
   "metadata": {},
   "outputs": [],
   "source": [
    "raw_exploded = raw_exploded[raw_exploded.Definition.apply(lambda s : s[-3:] != \"见下。\")] # drop \"see belows\""
   ]
  },
  {
   "cell_type": "code",
   "execution_count": 16,
   "metadata": {},
   "outputs": [],
   "source": [
    "raw_exploded = raw_exploded.drop(columns = [\"Pinyin\"]).reset_index(drop = True).reset_index()"
   ]
  },
  {
   "cell_type": "code",
   "execution_count": 17,
   "metadata": {},
   "outputs": [
    {
     "data": {
      "text/html": [
       "<div>\n",
       "<style scoped>\n",
       "    .dataframe tbody tr th:only-of-type {\n",
       "        vertical-align: middle;\n",
       "    }\n",
       "\n",
       "    .dataframe tbody tr th {\n",
       "        vertical-align: top;\n",
       "    }\n",
       "\n",
       "    .dataframe thead th {\n",
       "        text-align: right;\n",
       "    }\n",
       "</style>\n",
       "<table border=\"1\" class=\"dataframe\">\n",
       "  <thead>\n",
       "    <tr style=\"text-align: right;\">\n",
       "      <th></th>\n",
       "      <th>index</th>\n",
       "      <th>Hanzi</th>\n",
       "      <th>Definition</th>\n",
       "    </tr>\n",
       "  </thead>\n",
       "  <tbody>\n",
       "    <tr>\n",
       "      <th>29569</th>\n",
       "      <td>29569</td>\n",
       "      <td>火力圈</td>\n",
       "      <td>huǒlìquān。〈名〉在一个区域内各种火力所及的范围。</td>\n",
       "    </tr>\n",
       "    <tr>\n",
       "      <th>45620</th>\n",
       "      <td>45620</td>\n",
       "      <td>瞑</td>\n",
       "      <td>mínɡ。眼花：耳聋目～。</td>\n",
       "    </tr>\n",
       "    <tr>\n",
       "      <th>83384</th>\n",
       "      <td>83384</td>\n",
       "      <td>只要</td>\n",
       "      <td>zhǐyào。〈连〉表示必要的条件（下文常用“就”或“便”呼应）：～肯干，就会干出成绩来｜～...</td>\n",
       "    </tr>\n",
       "    <tr>\n",
       "      <th>54933</th>\n",
       "      <td>54933</td>\n",
       "      <td>辱骂</td>\n",
       "      <td>rǔmà。〈动〉污辱谩骂。</td>\n",
       "    </tr>\n",
       "    <tr>\n",
       "      <th>66158</th>\n",
       "      <td>66158</td>\n",
       "      <td>顽健</td>\n",
       "      <td>wánjiàn。〈书〉〈形〉谦称自己身体强健。</td>\n",
       "    </tr>\n",
       "  </tbody>\n",
       "</table>\n",
       "</div>"
      ],
      "text/plain": [
       "       index Hanzi                                         Definition\n",
       "29569  29569   火力圈                      huǒlìquān。〈名〉在一个区域内各种火力所及的范围。\n",
       "45620  45620     瞑                                      mínɡ。眼花：耳聋目～。\n",
       "83384  83384    只要  zhǐyào。〈连〉表示必要的条件（下文常用“就”或“便”呼应）：～肯干，就会干出成绩来｜～...\n",
       "54933  54933    辱骂                                      rǔmà。〈动〉污辱谩骂。\n",
       "66158  66158    顽健                            wánjiàn。〈书〉〈形〉谦称自己身体强健。"
      ]
     },
     "execution_count": 17,
     "metadata": {},
     "output_type": "execute_result"
    }
   ],
   "source": [
    "raw_exploded.sample(5)"
   ]
  },
  {
   "cell_type": "code",
   "execution_count": 18,
   "metadata": {},
   "outputs": [],
   "source": [
    "processed = raw_exploded.rename(columns = {\"index\" : \"ID\", \"Hanzi\" : \"Word\"})"
   ]
  },
  {
   "cell_type": "code",
   "execution_count": 19,
   "metadata": {},
   "outputs": [
    {
     "data": {
      "text/html": [
       "<div>\n",
       "<style scoped>\n",
       "    .dataframe tbody tr th:only-of-type {\n",
       "        vertical-align: middle;\n",
       "    }\n",
       "\n",
       "    .dataframe tbody tr th {\n",
       "        vertical-align: top;\n",
       "    }\n",
       "\n",
       "    .dataframe thead th {\n",
       "        text-align: right;\n",
       "    }\n",
       "</style>\n",
       "<table border=\"1\" class=\"dataframe\">\n",
       "  <thead>\n",
       "    <tr style=\"text-align: right;\">\n",
       "      <th></th>\n",
       "      <th>ID</th>\n",
       "      <th>Word</th>\n",
       "      <th>Definition</th>\n",
       "    </tr>\n",
       "  </thead>\n",
       "  <tbody>\n",
       "    <tr>\n",
       "      <th>0</th>\n",
       "      <td>0</td>\n",
       "      <td>吖嗪</td>\n",
       "      <td>āqín。〈名〉有机化合物的一类，呈环状结构，含有一个或几个氮原子，如吡啶、哒嗪、嘧啶等。[...</td>\n",
       "    </tr>\n",
       "    <tr>\n",
       "      <th>1</th>\n",
       "      <td>1</td>\n",
       "      <td>阿</td>\n",
       "      <td>ā。〈方〉前缀。用在排行、小名或姓的前面，有亲昵的意味：～大｜～宝｜～唐。</td>\n",
       "    </tr>\n",
       "    <tr>\n",
       "      <th>2</th>\n",
       "      <td>2</td>\n",
       "      <td>阿</td>\n",
       "      <td>ā。〈方〉前缀。用在某些亲属名称的前面：～婆｜～爸｜～哥。另见2页•ɑ；339页ē。</td>\n",
       "    </tr>\n",
       "    <tr>\n",
       "      <th>3</th>\n",
       "      <td>3</td>\n",
       "      <td>阿鼻地狱</td>\n",
       "      <td>ābídìyù。佛教指最深层的地狱，是犯了重罪的人死后灵魂永远受苦的地方。[阿鼻，梵avīci]</td>\n",
       "    </tr>\n",
       "    <tr>\n",
       "      <th>4</th>\n",
       "      <td>4</td>\n",
       "      <td>阿昌族</td>\n",
       "      <td>Āchānɡzú。〈名〉我国少数民族之一，分布在云南。</td>\n",
       "    </tr>\n",
       "  </tbody>\n",
       "</table>\n",
       "</div>"
      ],
      "text/plain": [
       "   ID  Word                                         Definition\n",
       "0   0    吖嗪  āqín。〈名〉有机化合物的一类，呈环状结构，含有一个或几个氮原子，如吡啶、哒嗪、嘧啶等。[...\n",
       "1   1     阿              ā。〈方〉前缀。用在排行、小名或姓的前面，有亲昵的意味：～大｜～宝｜～唐。\n",
       "2   2     阿         ā。〈方〉前缀。用在某些亲属名称的前面：～婆｜～爸｜～哥。另见2页•ɑ；339页ē。\n",
       "3   3  阿鼻地狱   ābídìyù。佛教指最深层的地狱，是犯了重罪的人死后灵魂永远受苦的地方。[阿鼻，梵avīci]\n",
       "4   4   阿昌族                        Āchānɡzú。〈名〉我国少数民族之一，分布在云南。"
      ]
     },
     "execution_count": 19,
     "metadata": {},
     "output_type": "execute_result"
    }
   ],
   "source": [
    "processed.head()"
   ]
  },
  {
   "cell_type": "code",
   "execution_count": 20,
   "metadata": {},
   "outputs": [],
   "source": [
    "save_dir = \"../../../ProcessedData/Dictionaries/Chinese/\"\n",
    "import os\n",
    "if not os.path.exists(save_dir):\n",
    "    os.makedirs(save_dir)"
   ]
  },
  {
   "cell_type": "code",
   "execution_count": 21,
   "metadata": {},
   "outputs": [],
   "source": [
    "processed.to_csv(save_dir + \"XDHyCD7th.csv\", encoding='utf-16', index=False)"
   ]
  }
 ],
 "metadata": {
  "kernelspec": {
   "display_name": "Python 3 (ipykernel)",
   "language": "python",
   "name": "python3"
  },
  "language_info": {
   "codemirror_mode": {
    "name": "ipython",
    "version": 3
   },
   "file_extension": ".py",
   "mimetype": "text/x-python",
   "name": "python",
   "nbconvert_exporter": "python",
   "pygments_lexer": "ipython3",
   "version": "3.12.3"
  }
 },
 "nbformat": 4,
 "nbformat_minor": 4
}
