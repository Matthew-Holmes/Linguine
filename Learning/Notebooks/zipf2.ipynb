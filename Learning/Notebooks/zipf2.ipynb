{
 "cells": [
  {
   "cell_type": "markdown",
   "metadata": {},
   "source": [
    "# Zipf Law Revisited\n",
    "\n",
    "In the earlier notebook we saw that the frequencies observed roughly obeyed Zipf's law...\n",
    "\n",
    "However the fit tailed off towards the less frequent words, now we see that that is to be expected, and how to fix it."
   ]
  },
  {
   "cell_type": "markdown",
   "metadata": {},
   "source": [
    "## Biased estimators\n",
    "\n",
    "What is the best estimate for a word's aymptotic frequency over a large enough sample size? The estimator we might reach for is one based on a sample, as we used in the previous notebook:\n",
    "\n",
    "$$\n",
    "\n",
    "\\hat{f}(w_i) = \\frac{C(w_i)}{|T|}\n",
    "\n",
    "$$\n",
    "\n",
    "Where $C$ is the count function, and $|T|$ the total size of the sample text.\n",
    "\n",
    "In the absence of any underlying model for word frequencies, this does seem fair. However we know that all words do occur with non-zero frequency (otherwise why would they be in a dictionary?). Thus the estimator for an un-observed word, $\\bar{w}_i$, $\\hat{f}(\\bar{w}_i) = 0$ must be biased, the law of total probability then means that our remaining estimators are also biased - or at least a subset of them are."
   ]
  },
  {
   "cell_type": "markdown",
   "metadata": {},
   "source": [
    "## Survivorship bias\n",
    "\n",
    "Intuitively this is due to a survivorship bias - if the expected number of occurences of a word in the sample text is, say $0.5$, then due to the discrete nature of the count function $C : \\{ w_i \\in W \\} \\to \\mathbb{N}$, we must either under or overestimate it's frequency - and all the observed words like this will be overestimated, conversely for the un-observed words."
   ]
  },
  {
   "cell_type": "markdown",
   "metadata": {},
   "source": [
    "## Key Ideas\n",
    "\n",
    "So what can be do about this? It seems we need to adjust our estimates, especially for words only observed a handful of times. That does align with the break-away from the theory we saw in the previous notebook's graphs. To solve this problem we rely on the following key observations:\n",
    "\n",
    "1. The number of words we **didn't** observe is also a valuable piece of information\n",
    "2. Above a certain number of observations, a word's frequency estimate is essential **unbiased**\n",
    "3. We have a well backed theory for the qualititative relationship frequencies obey, as a function of word rank\n",
    "4. Using our sample statistics to estimate orderings is **not** subject to bias\n",
    "5. Estimating rank and ordering are not the same thing\n",
    "\n",
    "We observe a subtle distinction here, that is worth repeating. Whilst we cannot use $\\hat{f}$ to estimate the frequencies we require, we can use it as a unbiased estimate for the ordering of the words by frequency. Then we need to consider the even subtler distinction between rank and order. We now discuss each point.\n",
    "\n",
    "\n",
    "### Technical notes\n",
    "\n",
    "\"bias\" according to the traditional definition is being used incorrectly here. In fact $\\hat{f}$ **is** unbiased as our sample size grows to infinity. However Zipf scores are used to discuss occurences of rare words in the region of 10 per billion - talking about asymptotics would require data volumes well beyond the current system can produce.\n",
    "\n",
    "To formalise this rigorously we would need to consider a dictionary that grows with the sample size, so we always anticipate unseen words. However that means we have a changing data distribution, and would require much more advanced tools - and tangential considerations not helpful for actually solving our present issue.\n",
    "\n",
    "### 1. Unobserved words\n",
    "\n",
    "let $T$ be a text distributed according the global Zipf-Mandelbrot law. We let\n",
    "\n",
    "$$ N = |T| $$ \n",
    "\n",
    "be the number of words, (counting repetitions) present in $T$, and \n",
    "\n",
    "$$M = | \\text{dictionary} |$$\n",
    "\n",
    "the number of *unique* words we drew from in sampling $T$. We are interested in the following quantity:\n",
    "\n",
    "$$ U = | \\{ w_i | w_i \\notin T \\} |$$\n",
    "\n",
    "The total number of unseen words. Given a text, we can trivially exactly compute this - however there is also the following estimator for a given $M$:\n",
    "\n",
    "$$ \\hat{U} = | \\text{dictionary} | - \\mathbb{E}[\\text{unique}] = \\mathbb{E} \\left[ M - \\sum_{w_i} I_i \\right]$$\n",
    "\n",
    "Where $I_i$ is the indicator variable for the event \"word $i$ present in $T$\", these are not necessarily indepedant random variables, but the linearity of expectation applies nontheless:\n",
    "\n",
    "$$ \\hat{U} = M - \\sum_{w_i} \\mathbb{E}(I_i) = M - \\sum_{w_i} \\left(  1 - (1-f(w_i))^M \\right) = \\sum_{w_i} (1-f(w_i))^M $$\n",
    "\n",
    "I.e. using the probability that $I_i = 0$, the word was never observed, to estimate the expectation. Here $f$ is the true frequency per word, thus equivalent to the probability any given sampled word in the text is $w_i$.\n",
    "\n",
    "\n",
    "Taking step back, we see we have derived a formula for an quantity we already know, $U$ ...however the right hand side is interesting, because while know the qualitative shape of $f$, the parameters are unknowns to be fitted - and now we have an extra piece of information to help that, from words that we have never even seen!\n",
    "\n",
    "\n",
    "### 2. When do we get bias?\n",
    "\n",
    "We know bias arises from survivorship of a word $w_i$ observed in the text; we do not have any information about the counterfactual - that the text did not contain $w_i$\n",
    "\n",
    "So how likely was that? lets do a quick case study with a word, that asymptotically had $0.5$ expected occurences in $T$, but we observed it $n$ times:\n",
    "\n",
    "#### $n = 1$\n",
    "\n",
    "This case is likely:\n",
    "\n",
    "$$ \\mathbb{P}(n = 1) = {N \\choose 1} \\cdot \\left( \\frac{0.5}{N}\\right)^1 \\cdot \\left( 1 - \\frac{0.5}{N}\\right)^{N-1} \\geq N \\cdot \\frac{0.5}{N} \\cdot \\left( 1 - (N-1)\\frac{0.5}{N}\\right)$$\n",
    "\n",
    "By the Binomial inequality, thus:\n",
    "\n",
    "$$\n",
    " \\mathbb{P}(n = 1) \\geq 0.25\n",
    "$$\n",
    "\n",
    "Definitely worth considering\n",
    "\n",
    "#### $n = 10$\n",
    "\n",
    "$$ \\mathbb{P}(n = 10) = {N \\choose 10} \\cdot \\left( \\frac{0.5}{N}\\right)^{10} \\cdot \\left( 1 - \\frac{0.5}{N}\\right)^{N-10} \\leq {N \\choose 10} \\cdot \\left( \\frac{0.5}{N}\\right)^{10} $$\n",
    "\n",
    "Thus \n",
    "$$\n",
    "\\mathbb{P}(n = 10) \\leq N \\cdot (N-1) \\dots (N-10) \\cdot \\left( \\frac{0.5}{N}\\right)^{10} \\leq N^{10} \\cdot \\left( \\frac{0.5}{N}\\right)^{10}\n",
    "$$\n",
    "\n",
    "$$\n",
    "\\mathbb{P}(n = 10) \\leq 0.5^{10}\n",
    "$$\n",
    "\n",
    "A rough upper bound, already severly unlikely, a full analysis of the likelihood that $f(w_i) = 0.5$ given 10 occurences would require some Bayesian reasoning, but regardless it is clear that the effects of survivorship bias are minimal given sufficient observations of a word.\n",
    "\n",
    "Intuitively, for a word with 10 observations, this is just as likely to be an undersample as an oversample - whereas with 1 observation, we should be considering survivorship bias.\n",
    "\n",
    "\n",
    "Going the other way, considering the a word with 10 expected occurences, and its survival likelihood. For large $ M $, the Binomial distribution approximates a Poisson distribution with mean $\\lambda $, leading to:\n",
    "\n",
    "$$\n",
    "\\mathbb{P}(n = 0) \\approx e^{-\\lambda}.\n",
    "$$\n",
    "\n",
    "Substituting $\\lambda = 10 $, we obtain:\n",
    "\n",
    "$$\n",
    "\\mathbb{P}(n = 0) \\approx e^{-10}.\n",
    "$$\n",
    "\n",
    "Numerically,\n",
    "\n",
    "$$\n",
    "e^{-10} \\approx 4.54 \\times 10^{-5}.\n",
    "$$\n",
    "\n",
    "Thus, the probability that a word with an expected frequency of 10 in a text of size $ M $ never appears is approximately $4.54 \\times 10^{-5}$ which is very small. Thus the event we didn't observe the word can safely be ignored, and adds minimal bias to our estimate.\n",
    "\n",
    "To conclude - our estimates for frequencies are decent once we have enough data, this will prove useful in the next point.\n",
    "\n",
    "### 3. A qualitative model for frequency\n",
    "\n",
    "Previously we introduced the Zipf-Mandelbrot model:\n",
    "\n",
    "$$\n",
    "\\text{Frequency} = \\frac{c}{(\\text{rank} + b)^a}\n",
    "$$\n",
    "\n",
    "With fittable parameters $a,b,c$ - we assume this to be true. Then given 2., we can be happy with a fit based on data filtering out the infrequent obervations.\n",
    "\n",
    "The problem is that now we have a large extrapolation... if only we had a way to tune the long range effects of $a$, based on unbiased data. Well 1. gives us precisely that capability.\n",
    "\n",
    "\n",
    "### 4. Estimating order\n",
    "\n",
    "Our recorded frequencies give us a natural partial ordering, and we observe that changing this would not make any sense. Even if we know that an observed word probably shouldn't have been observed - that doesn't mean we should order an unobserved work above it.\n",
    "\n",
    "As a discrete object (the ordering could be a matrix of 1s, 0s, 0.5s) we have an unbiased estimate of the true ordering (a matrix of 0s and 1s say)\n",
    "\n",
    "### 5. Why Rank matters\n",
    "\n",
    "Every order gives a natural function to the integers to yield the rank of a word, ready to be plugged into our model from 3.\n",
    "\n",
    "We might be tempted to conclude from 4. that we have an unbiased estimator for this... however following this reasoning we arrive at contradictions. (ignoring the fact that the rank function is not even neccessarily well defined)\n",
    "\n",
    "A key observation is that an estimator of rank merely maps:\n",
    "\n",
    "$$\n",
    "\\hat{r} : \\text{dictionary} \\to \\mathbb{R}\n",
    "$$\n",
    "\n",
    "And that we can then extract a partial/total ordering naturally, the Zipf-Mandelbrot model conflates these two because strictly* monotonic rank functions form equivalence classes with natural representatives: the pullback from the integer valued orders' indices (*i.e.when we have a total ordering)\n",
    "\n",
    "But with a partial ordering, many different rank functions can yield the same partial ordering, and it is not obvious where to set the estimator value for, say, all the words we observed exactly 3 times.\n",
    "\n",
    "We assume that this rank is constant for all these words - which is necessary anyway viewing the $\\hat{r}$ as defining a partial order. \n",
    "\n",
    "We can then use 4. and consider the *order-range* we are covering, since our ordering is valid. Using our Zipf-Mandelbrot model, we can compute the probability mass present in this range, then divide it equally between the words, then work backwards to get our $\\hat{r}$ estimate.\n",
    "\n",
    "This approach ties together the ideas we've considered, and should lead to a much better fit, when we only have a limited sample size."
   ]
  },
  {
   "cell_type": "markdown",
   "metadata": {},
   "source": [
    "## Implementing the new approach\n",
    "\n",
    "Now we apply this to our current data - the word frequencies of the first few chapters of Moby Dick. The dictionary we are using has 176048 definitions (since we count each word sense as a separate meaning)\n",
    "\n",
    "Lets see how the model looks when we readjust for survivorship bias."
   ]
  },
  {
   "cell_type": "code",
   "execution_count": 75,
   "metadata": {},
   "outputs": [
    {
     "data": {
      "text/html": [
       "<div>\n",
       "<style scoped>\n",
       "    .dataframe tbody tr th:only-of-type {\n",
       "        vertical-align: middle;\n",
       "    }\n",
       "\n",
       "    .dataframe tbody tr th {\n",
       "        vertical-align: top;\n",
       "    }\n",
       "\n",
       "    .dataframe thead th {\n",
       "        text-align: right;\n",
       "    }\n",
       "</style>\n",
       "<table border=\"1\" class=\"dataframe\">\n",
       "  <thead>\n",
       "    <tr style=\"text-align: right;\">\n",
       "      <th></th>\n",
       "      <th>Word</th>\n",
       "      <th>Frequency</th>\n",
       "      <th>Definition</th>\n",
       "      <th>Rank</th>\n",
       "    </tr>\n",
       "  </thead>\n",
       "  <tbody>\n",
       "    <tr>\n",
       "      <th>0</th>\n",
       "      <td>the</td>\n",
       "      <td>405</td>\n",
       "      <td>A word placed before nouns to limit or individ...</td>\n",
       "      <td>1</td>\n",
       "    </tr>\n",
       "    <tr>\n",
       "      <th>1</th>\n",
       "      <td>a</td>\n",
       "      <td>271</td>\n",
       "      <td>\"An adjective, commonly called the indefinite ...</td>\n",
       "      <td>2</td>\n",
       "    </tr>\n",
       "    <tr>\n",
       "      <th>2</th>\n",
       "      <td>and</td>\n",
       "      <td>237</td>\n",
       "      <td>\"A particle which expresses the relation of co...</td>\n",
       "      <td>3</td>\n",
       "    </tr>\n",
       "    <tr>\n",
       "      <th>3</th>\n",
       "      <td>be</td>\n",
       "      <td>152</td>\n",
       "      <td>\"To exist actually, or in the world of fact; t...</td>\n",
       "      <td>4</td>\n",
       "    </tr>\n",
       "    <tr>\n",
       "      <th>4</th>\n",
       "      <td>to</td>\n",
       "      <td>150</td>\n",
       "      <td>\"The preposition to primarily indicates approa...</td>\n",
       "      <td>5</td>\n",
       "    </tr>\n",
       "  </tbody>\n",
       "</table>\n",
       "</div>"
      ],
      "text/plain": [
       "  Word  Frequency                                         Definition  Rank\n",
       "0  the        405  A word placed before nouns to limit or individ...     1\n",
       "1    a        271  \"An adjective, commonly called the indefinite ...     2\n",
       "2  and        237  \"A particle which expresses the relation of co...     3\n",
       "3   be        152  \"To exist actually, or in the world of fact; t...     4\n",
       "4   to        150  \"The preposition to primarily indicates approa...     5"
      ]
     },
     "execution_count": 75,
     "metadata": {},
     "output_type": "execute_result"
    }
   ],
   "source": [
    "import pandas as pd\n",
    "\n",
    "file_path = \"/mnt/c/Users/Matt/source/repos/Linguine/Linguine/bin/Debug/net8.0-windows10.0.19041.0/freqs.csv\"  # Change this if needed\n",
    "df = pd.read_csv(file_path)\n",
    "\n",
    "df[\"Frequency\"] = pd.to_numeric(df[\"Frequency\"], errors=\"coerce\")\n",
    "\n",
    "df = df.sort_values(by=\"Frequency\", ascending=False).reset_index(drop=True)\n",
    "\n",
    "df[\"Rank\"] = df.index + 1\n",
    "\n",
    "df.head()"
   ]
  },
  {
   "cell_type": "code",
   "execution_count": 32,
   "metadata": {},
   "outputs": [],
   "source": [
    "freq_df = df[df[\"Frequency\"] >= 10]"
   ]
  },
  {
   "cell_type": "code",
   "execution_count": 33,
   "metadata": {},
   "outputs": [
    {
     "data": {
      "text/html": [
       "<div>\n",
       "<style scoped>\n",
       "    .dataframe tbody tr th:only-of-type {\n",
       "        vertical-align: middle;\n",
       "    }\n",
       "\n",
       "    .dataframe tbody tr th {\n",
       "        vertical-align: top;\n",
       "    }\n",
       "\n",
       "    .dataframe thead th {\n",
       "        text-align: right;\n",
       "    }\n",
       "</style>\n",
       "<table border=\"1\" class=\"dataframe\">\n",
       "  <thead>\n",
       "    <tr style=\"text-align: right;\">\n",
       "      <th></th>\n",
       "      <th>Word</th>\n",
       "      <th>Frequency</th>\n",
       "      <th>Definition</th>\n",
       "      <th>Rank</th>\n",
       "    </tr>\n",
       "  </thead>\n",
       "  <tbody>\n",
       "    <tr>\n",
       "      <th>64</th>\n",
       "      <td>first</td>\n",
       "      <td>13</td>\n",
       "      <td>\"Preceding all others of a series or kind; the...</td>\n",
       "      <td>65</td>\n",
       "    </tr>\n",
       "    <tr>\n",
       "      <th>23</th>\n",
       "      <td>go</td>\n",
       "      <td>28</td>\n",
       "      <td>\"To pass from one place to another; to be in m...</td>\n",
       "      <td>24</td>\n",
       "    </tr>\n",
       "    <tr>\n",
       "      <th>67</th>\n",
       "      <td>most</td>\n",
       "      <td>13</td>\n",
       "      <td>Consisting of the greatest number or quantity;...</td>\n",
       "      <td>68</td>\n",
       "    </tr>\n",
       "    <tr>\n",
       "      <th>72</th>\n",
       "      <td>these</td>\n",
       "      <td>12</td>\n",
       "      <td>The plural of this. See This.</td>\n",
       "      <td>73</td>\n",
       "    </tr>\n",
       "    <tr>\n",
       "      <th>24</th>\n",
       "      <td>do</td>\n",
       "      <td>26</td>\n",
       "      <td>\"To perform, as an action; to execute; to tran...</td>\n",
       "      <td>25</td>\n",
       "    </tr>\n",
       "  </tbody>\n",
       "</table>\n",
       "</div>"
      ],
      "text/plain": [
       "     Word  Frequency                                         Definition  Rank\n",
       "64  first         13  \"Preceding all others of a series or kind; the...    65\n",
       "23     go         28  \"To pass from one place to another; to be in m...    24\n",
       "67   most         13  Consisting of the greatest number or quantity;...    68\n",
       "72  these         12                      The plural of this. See This.    73\n",
       "24     do         26  \"To perform, as an action; to execute; to tran...    25"
      ]
     },
     "execution_count": 33,
     "metadata": {},
     "output_type": "execute_result"
    }
   ],
   "source": [
    "freq_df.sample(5)"
   ]
  },
  {
   "cell_type": "code",
   "execution_count": 34,
   "metadata": {},
   "outputs": [
    {
     "data": {
      "image/png": "[encoded data removed]",
      "text/plain": [
       "<Figure size 1000x600 with 1 Axes>"
      ]
     },
     "metadata": {},
     "output_type": "display_data"
    }
   ],
   "source": [
    "import pandas as pd\n",
    "import numpy as np\n",
    "import seaborn as sns\n",
    "import matplotlib.pyplot as plt\n",
    "from scipy.optimize import curve_fit\n",
    "\n",
    "\n",
    "# Zipf-Mandelbrot\n",
    "def zipf_func(rank, a, b, c):\n",
    "    return c / ((rank + b) ** a)\n",
    "\n",
    "# Fit the curve using non-linear least squares\n",
    "popt, _ = curve_fit(zipf_func, freq_df[\"Rank\"], freq_df[\"Frequency\"], maxfev=10000)\n",
    "\n",
    "# Get best-fit parameters\n",
    "a_opt, b_opt, c_opt = popt\n",
    "\n",
    "# Generate fitted Zipf-like values\n",
    "df[\"Zipf_Fit\"] = zipf_func(df[\"Rank\"], a_opt, b_opt, c_opt)\n",
    "\n",
    "# Plot actual frequencies vs Zipf's Law fit\n",
    "plt.figure(figsize=(10, 6))\n",
    "sns.lineplot(x=df[\"Rank\"], y=df[\"Frequency\"], label=\"Actual Frequencies\", marker=\"o\")\n",
    "sns.lineplot(x=df[\"Rank\"], y=df[\"Zipf_Fit\"], label=f\"Best Fit (a={a_opt:.2f}, b={b_opt:.2f}, c={c_opt:.2f} )\", linestyle=\"dashed\", color=\"red\")\n",
    "\n",
    "# Log-log scale for better visualization\n",
    "plt.xscale(\"log\")\n",
    "plt.yscale(\"log\")\n",
    "\n",
    "# Labels and title\n",
    "plt.xlabel(\"Rank\")\n",
    "plt.ylabel(\"Frequency\")\n",
    "plt.title(\"Word Frequency vs Best Fit Zipf Curve For High Frequency Words Only\")\n",
    "plt.legend()\n",
    "\n",
    "# Show plot\n",
    "plt.show()"
   ]
  },
  {
   "cell_type": "code",
   "execution_count": 35,
   "metadata": {},
   "outputs": [
    {
     "name": "stdout",
     "output_type": "stream",
     "text": [
      "words unseen in sample: 174344\n",
      "sample size: 6166\n"
     ]
    }
   ],
   "source": [
    "unseen_count = 176048 - df.shape[0] \n",
    "print(f\"words unseen in sample: {unseen_count}\")\n",
    "\n",
    "sample_size = df['Frequency'].sum()\n",
    "print(f\"sample size: {sample_size}\")"
   ]
  },
  {
   "cell_type": "markdown",
   "metadata": {},
   "source": [
    "### Numerical stability\n",
    "\n",
    "We have that our estimator of the number of unseen words is:\n",
    "\n",
    "$$ \\hat{U} = \\sum_{w_i} (1-f(w_i))^M $$\n",
    "\n",
    "This will be prone to numerical instability unless we work in log space, so\n",
    "\n",
    "$$\n",
    "\\hat{U} = \\sum_{w_i} \\exp \\left( M \\log{(1-f(w_i))} \\right)\n",
    "$$\n",
    "\n",
    "we shoul use long double precision for this all."
   ]
  },
  {
   "cell_type": "code",
   "execution_count": 45,
   "metadata": {},
   "outputs": [
    {
     "data": {
      "text/plain": [
       "1704"
      ]
     },
     "execution_count": 45,
     "metadata": {},
     "output_type": "execute_result"
    }
   ],
   "source": [
    "df.shape[0]"
   ]
  },
  {
   "cell_type": "code",
   "execution_count": 38,
   "metadata": {},
   "outputs": [
    {
     "name": "stderr",
     "output_type": "stream",
     "text": [
      "100%|███████████████████████████████████████████████████████████████████████| 176048/176048 [00:01<00:00, 117793.52it/s]\n"
     ]
    }
   ],
   "source": [
    "from tqdm import tqdm\n",
    "\n",
    "M = df[\"Frequency\"].sum()\n",
    "u_hat = 0.0\n",
    "\n",
    "for i in tqdm(range(1,176048+1)):\n",
    "    p_i = (c_opt / 6166) / np.power(i + b_opt, a_opt)\n",
    "    p_not_i = (1.0 - p_i)\n",
    "    p_never_i = np.exp(M * np.log(p_not_i))\n",
    "    u_hat += p_never_i"
   ]
  },
  {
   "cell_type": "code",
   "execution_count": 44,
   "metadata": {},
   "outputs": [
    {
     "name": "stdout",
     "output_type": "stream",
     "text": [
      "predicted unseen: 173796.784948\n",
      "true unseen: 174344\n",
      "rel err: 0.313871%\n"
     ]
    }
   ],
   "source": [
    "print(f\"predicted unseen: {u_hat:0f}\")\n",
    "print(f\"true unseen: {unseen_count}\")\n",
    "print(f\"rel err: {np.abs((u_hat - unseen_count) / unseen_count) * 100.0:0f}%\")"
   ]
  },
  {
   "cell_type": "markdown",
   "metadata": {},
   "source": [
    "This is pretty accurate! we are off by about 500, which we can definitely tune for now with the $a$ parameter. I expect this to be convex, so will use the golden search algorithm."
   ]
  },
  {
   "cell_type": "code",
   "execution_count": 54,
   "metadata": {},
   "outputs": [
    {
     "data": {
      "text/plain": [
       "1.1596880569846144"
      ]
     },
     "execution_count": 54,
     "metadata": {},
     "output_type": "execute_result"
    }
   ],
   "source": [
    "a_opt"
   ]
  },
  {
   "cell_type": "code",
   "execution_count": 58,
   "metadata": {},
   "outputs": [
    {
     "name": "stderr",
     "output_type": "stream",
     "text": [
      " 31%|█████████████████████████▍                                                        | 31/100 [00:26<00:58,  1.19it/s]"
     ]
    },
    {
     "name": "stdout",
     "output_type": "stream",
     "text": [
      "Optimal a_opt: 1.2007510892331217\n"
     ]
    },
    {
     "name": "stderr",
     "output_type": "stream",
     "text": [
      "\n"
     ]
    }
   ],
   "source": [
    "def compute_u_hat(a_opt, b_opt, c_opt, M, U, max_iter=100, tol=1e-6):\n",
    "    \"\"\"\n",
    "    Computes u_hat for a given c_opt and returns the absolute difference from U.\n",
    "    \"\"\"\n",
    "    u_hat = 0.0\n",
    "    for i in range(1, 176048 + 1):\n",
    "        p_i = (c_opt / M) / np.power(i + b_opt, a_opt)\n",
    "        p_not_i = (1.0 - p_i)\n",
    "        p_never_i = np.exp(M * np.log(p_not_i))\n",
    "        u_hat += p_never_i\n",
    "    return abs(U - u_hat)\n",
    "\n",
    "def golden_section_search(a, b, b_opt, c_opt, M, U, tol=1e-6, max_iter=100):\n",
    "    \"\"\"\n",
    "    Performs golden section search to find optimal c_opt.\n",
    "    \"\"\"\n",
    "    phi = (1 + np.sqrt(5)) / 2  # Golden ratio\n",
    "    resphi = 2 - phi\n",
    "    \n",
    "    a1 = a + resphi * (b - a)\n",
    "    a2 = b - resphi * (b - a)\n",
    "    \n",
    "    f1 = compute_u_hat(a1, b_opt, c_opt, M, U)\n",
    "    f2 = compute_u_hat(a2, b_opt, c_opt, M, U)\n",
    "    \n",
    "    for _ in tqdm(range(max_iter)):\n",
    "        if abs(b - a) < tol:\n",
    "            break\n",
    "        \n",
    "        if f1 < f2:\n",
    "            b = a2\n",
    "            a2 = a1\n",
    "            f2 = f1\n",
    "            a1 = a + resphi * (b - a)\n",
    "            f1 = compute_u_hat(a1, b_opt, c_opt, M, U)\n",
    "        else:\n",
    "            a = a1\n",
    "            a1 = a2\n",
    "            f1 = f2\n",
    "            a2 = b - resphi * (b - a)\n",
    "            f2 = compute_u_hat(a2, b_opt, c_opt, M, U)\n",
    "    \n",
    "    return (a1 + a2) / 2\n",
    "\n",
    "# Example usage\n",
    "a_opt_initial_low = 0.9 # Lower bound for search\n",
    "a_opt_initial_high = 3.0  # Upper bound for search\n",
    "optimal_a = golden_section_search(a_opt_initial_low, a_opt_initial_high, b_opt, c_opt, M, unseen_count)\n",
    "print(\"Optimal a_opt:\", optimal_a)"
   ]
  },
  {
   "cell_type": "code",
   "execution_count": 60,
   "metadata": {},
   "outputs": [
    {
     "data": {
      "image/png": "[encoded data removed]",
      "text/plain": [
       "<Figure size 1000x600 with 1 Axes>"
      ]
     },
     "metadata": {},
     "output_type": "display_data"
    }
   ],
   "source": [
    "df[\"Zipf_Fit\"] = zipf_func(df[\"Rank\"], optimal_a, b_opt, c_opt)\n",
    "\n",
    "# Plot actual frequencies vs Zipf's Law fit\n",
    "plt.figure(figsize=(10, 6))\n",
    "sns.lineplot(x=df[\"Rank\"], y=df[\"Frequency\"], label=\"Actual Frequencies\", marker=\"o\")\n",
    "sns.lineplot(x=df[\"Rank\"], y=df[\"Zipf_Fit\"], label=f\"Best Fit (a={optimal_a:.2f}, b={b_opt:.2f}, c={c_opt:.2f} )\", linestyle=\"dashed\", color=\"red\")\n",
    "\n",
    "# Log-log scale for better visualization\n",
    "plt.xscale(\"log\")\n",
    "plt.yscale(\"log\")\n",
    "\n",
    "# Labels and title\n",
    "plt.xlabel(\"Rank\")\n",
    "plt.ylabel(\"Frequency\")\n",
    "plt.title(\"Word Frequency vs Best Fit Zipf Curve For High Frequency Words Only\")\n",
    "plt.legend()\n",
    "\n",
    "# Show plot\n",
    "plt.show()"
   ]
  },
  {
   "cell_type": "code",
   "execution_count": 61,
   "metadata": {},
   "outputs": [
    {
     "data": {
      "text/html": [
       "<div>\n",
       "<style scoped>\n",
       "    .dataframe tbody tr th:only-of-type {\n",
       "        vertical-align: middle;\n",
       "    }\n",
       "\n",
       "    .dataframe tbody tr th {\n",
       "        vertical-align: top;\n",
       "    }\n",
       "\n",
       "    .dataframe thead th {\n",
       "        text-align: right;\n",
       "    }\n",
       "</style>\n",
       "<table border=\"1\" class=\"dataframe\">\n",
       "  <thead>\n",
       "    <tr style=\"text-align: right;\">\n",
       "      <th></th>\n",
       "      <th>Word</th>\n",
       "      <th>Frequency</th>\n",
       "      <th>Definition</th>\n",
       "      <th>Rank</th>\n",
       "      <th>Zipf_Fit</th>\n",
       "    </tr>\n",
       "  </thead>\n",
       "  <tbody>\n",
       "    <tr>\n",
       "      <th>0</th>\n",
       "      <td>the</td>\n",
       "      <td>405</td>\n",
       "      <td>A word placed before nouns to limit or individ...</td>\n",
       "      <td>1</td>\n",
       "      <td>383.303595</td>\n",
       "    </tr>\n",
       "    <tr>\n",
       "      <th>1</th>\n",
       "      <td>a</td>\n",
       "      <td>271</td>\n",
       "      <td>\"An adjective, commonly called the indefinite ...</td>\n",
       "      <td>2</td>\n",
       "      <td>270.250301</td>\n",
       "    </tr>\n",
       "    <tr>\n",
       "      <th>2</th>\n",
       "      <td>and</td>\n",
       "      <td>237</td>\n",
       "      <td>\"A particle which expresses the relation of co...</td>\n",
       "      <td>3</td>\n",
       "      <td>206.229309</td>\n",
       "    </tr>\n",
       "    <tr>\n",
       "      <th>3</th>\n",
       "      <td>be</td>\n",
       "      <td>152</td>\n",
       "      <td>\"To exist actually, or in the world of fact; t...</td>\n",
       "      <td>4</td>\n",
       "      <td>165.414634</td>\n",
       "    </tr>\n",
       "    <tr>\n",
       "      <th>4</th>\n",
       "      <td>to</td>\n",
       "      <td>150</td>\n",
       "      <td>\"The preposition to primarily indicates approa...</td>\n",
       "      <td>5</td>\n",
       "      <td>137.305659</td>\n",
       "    </tr>\n",
       "    <tr>\n",
       "      <th>...</th>\n",
       "      <td>...</td>\n",
       "      <td>...</td>\n",
       "      <td>...</td>\n",
       "      <td>...</td>\n",
       "      <td>...</td>\n",
       "    </tr>\n",
       "    <tr>\n",
       "      <th>1699</th>\n",
       "      <td>bring</td>\n",
       "      <td>1</td>\n",
       "      <td>To convey to the place where the speaker is or...</td>\n",
       "      <td>1700</td>\n",
       "      <td>0.186162</td>\n",
       "    </tr>\n",
       "    <tr>\n",
       "      <th>1700</th>\n",
       "      <td>piece</td>\n",
       "      <td>1</td>\n",
       "      <td>\"A fragment or part of anything separated from...</td>\n",
       "      <td>1701</td>\n",
       "      <td>0.186031</td>\n",
       "    </tr>\n",
       "    <tr>\n",
       "      <th>1701</th>\n",
       "      <td>shoulder</td>\n",
       "      <td>1</td>\n",
       "      <td>\"The joint, or the region of the joint, by whi...</td>\n",
       "      <td>1702</td>\n",
       "      <td>0.185899</td>\n",
       "    </tr>\n",
       "    <tr>\n",
       "      <th>1702</th>\n",
       "      <td>gloom</td>\n",
       "      <td>1</td>\n",
       "      <td>Cloudiness or heaviness of mind; melancholy; a...</td>\n",
       "      <td>1703</td>\n",
       "      <td>0.185769</td>\n",
       "    </tr>\n",
       "    <tr>\n",
       "      <th>1703</th>\n",
       "      <td>sleeve</td>\n",
       "      <td>1</td>\n",
       "      <td>\"The part of a garment which covers the arm; a...</td>\n",
       "      <td>1704</td>\n",
       "      <td>0.185638</td>\n",
       "    </tr>\n",
       "  </tbody>\n",
       "</table>\n",
       "<p>1704 rows × 5 columns</p>\n",
       "</div>"
      ],
      "text/plain": [
       "          Word  Frequency                                         Definition  \\\n",
       "0          the        405  A word placed before nouns to limit or individ...   \n",
       "1            a        271  \"An adjective, commonly called the indefinite ...   \n",
       "2          and        237  \"A particle which expresses the relation of co...   \n",
       "3           be        152  \"To exist actually, or in the world of fact; t...   \n",
       "4           to        150  \"The preposition to primarily indicates approa...   \n",
       "...        ...        ...                                                ...   \n",
       "1699     bring          1  To convey to the place where the speaker is or...   \n",
       "1700     piece          1  \"A fragment or part of anything separated from...   \n",
       "1701  shoulder          1  \"The joint, or the region of the joint, by whi...   \n",
       "1702     gloom          1  Cloudiness or heaviness of mind; melancholy; a...   \n",
       "1703    sleeve          1  \"The part of a garment which covers the arm; a...   \n",
       "\n",
       "      Rank    Zipf_Fit  \n",
       "0        1  383.303595  \n",
       "1        2  270.250301  \n",
       "2        3  206.229309  \n",
       "3        4  165.414634  \n",
       "4        5  137.305659  \n",
       "...    ...         ...  \n",
       "1699  1700    0.186162  \n",
       "1700  1701    0.186031  \n",
       "1701  1702    0.185899  \n",
       "1702  1703    0.185769  \n",
       "1703  1704    0.185638  \n",
       "\n",
       "[1704 rows x 5 columns]"
      ]
     },
     "execution_count": 61,
     "metadata": {},
     "output_type": "execute_result"
    }
   ],
   "source": [
    "df"
   ]
  },
  {
   "cell_type": "code",
   "execution_count": 94,
   "metadata": {},
   "outputs": [
    {
     "data": {
      "text/html": [
       "<div>\n",
       "<style scoped>\n",
       "    .dataframe tbody tr th:only-of-type {\n",
       "        vertical-align: middle;\n",
       "    }\n",
       "\n",
       "    .dataframe tbody tr th {\n",
       "        vertical-align: top;\n",
       "    }\n",
       "\n",
       "    .dataframe thead th {\n",
       "        text-align: right;\n",
       "    }\n",
       "</style>\n",
       "<table border=\"1\" class=\"dataframe\">\n",
       "  <thead>\n",
       "    <tr style=\"text-align: right;\">\n",
       "      <th></th>\n",
       "      <th>Word</th>\n",
       "      <th>Frequency</th>\n",
       "      <th>Definition</th>\n",
       "      <th>Rank</th>\n",
       "      <th>Modeled_Frequency</th>\n",
       "      <th>Zipf_Fit</th>\n",
       "      <th>Modeled_Frequency_Mean</th>\n",
       "    </tr>\n",
       "  </thead>\n",
       "  <tbody>\n",
       "    <tr>\n",
       "      <th>0</th>\n",
       "      <td>the</td>\n",
       "      <td>405</td>\n",
       "      <td>A word placed before nouns to limit or individ...</td>\n",
       "      <td>1</td>\n",
       "      <td>383.303595</td>\n",
       "      <td>1.108166</td>\n",
       "      <td>383.303595</td>\n",
       "    </tr>\n",
       "    <tr>\n",
       "      <th>1</th>\n",
       "      <td>a</td>\n",
       "      <td>271</td>\n",
       "      <td>\"An adjective, commonly called the indefinite ...</td>\n",
       "      <td>2</td>\n",
       "      <td>270.250301</td>\n",
       "      <td>1.681675</td>\n",
       "      <td>270.250301</td>\n",
       "    </tr>\n",
       "    <tr>\n",
       "      <th>2</th>\n",
       "      <td>and</td>\n",
       "      <td>237</td>\n",
       "      <td>\"A particle which expresses the relation of co...</td>\n",
       "      <td>3</td>\n",
       "      <td>206.229309</td>\n",
       "      <td>2.320411</td>\n",
       "      <td>206.229309</td>\n",
       "    </tr>\n",
       "    <tr>\n",
       "      <th>3</th>\n",
       "      <td>be</td>\n",
       "      <td>152</td>\n",
       "      <td>\"To exist actually, or in the world of fact; t...</td>\n",
       "      <td>4</td>\n",
       "      <td>165.414634</td>\n",
       "      <td>3.015494</td>\n",
       "      <td>165.414634</td>\n",
       "    </tr>\n",
       "    <tr>\n",
       "      <th>4</th>\n",
       "      <td>to</td>\n",
       "      <td>150</td>\n",
       "      <td>\"The preposition to primarily indicates approa...</td>\n",
       "      <td>5</td>\n",
       "      <td>137.305659</td>\n",
       "      <td>3.760393</td>\n",
       "      <td>137.305659</td>\n",
       "    </tr>\n",
       "    <tr>\n",
       "      <th>...</th>\n",
       "      <td>...</td>\n",
       "      <td>...</td>\n",
       "      <td>...</td>\n",
       "      <td>...</td>\n",
       "      <td>...</td>\n",
       "      <td>...</td>\n",
       "      <td>...</td>\n",
       "    </tr>\n",
       "    <tr>\n",
       "      <th>1699</th>\n",
       "      <td>bring</td>\n",
       "      <td>1</td>\n",
       "      <td>To convey to the place where the speaker is or...</td>\n",
       "      <td>1700</td>\n",
       "      <td>0.186162</td>\n",
       "      <td>563.896327</td>\n",
       "      <td>0.338001</td>\n",
       "    </tr>\n",
       "    <tr>\n",
       "      <th>1700</th>\n",
       "      <td>piece</td>\n",
       "      <td>1</td>\n",
       "      <td>\"A fragment or part of anything separated from...</td>\n",
       "      <td>1701</td>\n",
       "      <td>0.186031</td>\n",
       "      <td>563.937739</td>\n",
       "      <td>0.338001</td>\n",
       "    </tr>\n",
       "    <tr>\n",
       "      <th>1701</th>\n",
       "      <td>shoulder</td>\n",
       "      <td>1</td>\n",
       "      <td>\"The joint, or the region of the joint, by whi...</td>\n",
       "      <td>1702</td>\n",
       "      <td>0.185899</td>\n",
       "      <td>563.979102</td>\n",
       "      <td>0.338001</td>\n",
       "    </tr>\n",
       "    <tr>\n",
       "      <th>1702</th>\n",
       "      <td>gloom</td>\n",
       "      <td>1</td>\n",
       "      <td>Cloudiness or heaviness of mind; melancholy; a...</td>\n",
       "      <td>1703</td>\n",
       "      <td>0.185769</td>\n",
       "      <td>564.020418</td>\n",
       "      <td>0.338001</td>\n",
       "    </tr>\n",
       "    <tr>\n",
       "      <th>1703</th>\n",
       "      <td>sleeve</td>\n",
       "      <td>1</td>\n",
       "      <td>\"The part of a garment which covers the arm; a...</td>\n",
       "      <td>1704</td>\n",
       "      <td>0.185638</td>\n",
       "      <td>564.061686</td>\n",
       "      <td>0.338001</td>\n",
       "    </tr>\n",
       "  </tbody>\n",
       "</table>\n",
       "<p>1704 rows × 7 columns</p>\n",
       "</div>"
      ],
      "text/plain": [
       "          Word  Frequency                                         Definition  \\\n",
       "0          the        405  A word placed before nouns to limit or individ...   \n",
       "1            a        271  \"An adjective, commonly called the indefinite ...   \n",
       "2          and        237  \"A particle which expresses the relation of co...   \n",
       "3           be        152  \"To exist actually, or in the world of fact; t...   \n",
       "4           to        150  \"The preposition to primarily indicates approa...   \n",
       "...        ...        ...                                                ...   \n",
       "1699     bring          1  To convey to the place where the speaker is or...   \n",
       "1700     piece          1  \"A fragment or part of anything separated from...   \n",
       "1701  shoulder          1  \"The joint, or the region of the joint, by whi...   \n",
       "1702     gloom          1  Cloudiness or heaviness of mind; melancholy; a...   \n",
       "1703    sleeve          1  \"The part of a garment which covers the arm; a...   \n",
       "\n",
       "      Rank  Modeled_Frequency    Zipf_Fit  Modeled_Frequency_Mean  \n",
       "0        1         383.303595    1.108166              383.303595  \n",
       "1        2         270.250301    1.681675              270.250301  \n",
       "2        3         206.229309    2.320411              206.229309  \n",
       "3        4         165.414634    3.015494              165.414634  \n",
       "4        5         137.305659    3.760393              137.305659  \n",
       "...    ...                ...         ...                     ...  \n",
       "1699  1700           0.186162  563.896327                0.338001  \n",
       "1700  1701           0.186031  563.937739                0.338001  \n",
       "1701  1702           0.185899  563.979102                0.338001  \n",
       "1702  1703           0.185769  564.020418                0.338001  \n",
       "1703  1704           0.185638  564.061686                0.338001  \n",
       "\n",
       "[1704 rows x 7 columns]"
      ]
     },
     "execution_count": 94,
     "metadata": {},
     "output_type": "execute_result"
    }
   ],
   "source": [
    "df[\"Modeled_Frequency\"] = c_opt / ((df[\"Rank\"] + b_opt) ** optimal_a)\n",
    "\n",
    "mean_modeled_freq = df.groupby(\"Frequency\")[\"Modeled_Frequency\"].mean()\n",
    "df = df.merge(mean_modeled_freq, on=\"Frequency\", suffixes=(\"\", \"_Mean\"))\n",
    "\n",
    "df\n"
   ]
  },
  {
   "cell_type": "code",
   "execution_count": 95,
   "metadata": {},
   "outputs": [
    {
     "data": {
      "image/png": "[encoded data removed]",
      "text/plain": [
       "<Figure size 1000x600 with 1 Axes>"
      ]
     },
     "metadata": {},
     "output_type": "display_data"
    }
   ],
   "source": [
    "\n",
    "# Plot actual frequencies vs Zipf's Law fit\n",
    "plt.figure(figsize=(10, 6))\n",
    "sns.lineplot(x=df[\"Frequency\"], y=df[\"Modeled_Frequency_Mean\"], label=\"Frequencies\", marker=\"o\")\n",
    "\n",
    "# Log-log scale for better visualization\n",
    "plt.xscale(\"log\")\n",
    "plt.yscale(\"log\")\n",
    "\n",
    "# Labels and title\n",
    "plt.xlabel(\"Frequency\")\n",
    "plt.ylabel(\"Modeled Frequency\")\n",
    "plt.legend()\n",
    "\n",
    "# Show plot\n",
    "plt.show()"
   ]
  },
  {
   "cell_type": "code",
   "execution_count": 101,
   "metadata": {},
   "outputs": [
    {
     "data": {
      "image/png": "[encoded data removed]",
      "text/plain": [
       "<Figure size 1000x600 with 1 Axes>"
      ]
     },
     "metadata": {},
     "output_type": "display_data"
    }
   ],
   "source": [
    "df[\"Zipf_Fit\"] = zipf_func(df[\"Rank\"], optimal_a, b_opt, c_opt)\n",
    "\n",
    "# Plot actual frequencies vs Zipf's Law fit\n",
    "plt.figure(figsize=(10, 6))\n",
    "sns.lineplot(x=df[\"Rank\"], y=df[\"Modeled_Frequency_Mean\"], label=\"Modeled Frequencies\", marker=\"o\")\n",
    "sns.lineplot(x=df[\"Rank\"], y=df[\"Frequency\"], label=\"Frequencies\", marker=\"o\")\n",
    "sns.lineplot(x=df[\"Rank\"], y=df[\"Zipf_Fit\"], label=f\"Best Fit (a={optimal_a:.2f}, b={b_opt:.2f}, c={c_opt:.2f} )\", linestyle=\"dashed\", color=\"red\")\n",
    "\n",
    "# Log-log scale for better visualization\n",
    "plt.xscale(\"log\")\n",
    "plt.yscale(\"log\")\n",
    "\n",
    "# Labels and title\n",
    "plt.xlabel(\"Rank\")\n",
    "plt.ylabel(\"Frequency\")\n",
    "plt.title(\"Word Frequency vs Best Fit Zipf Curve For High Frequency Words Only\")\n",
    "plt.legend()\n",
    "\n",
    "# Show plot\n",
    "plt.show()"
   ]
  },
  {
   "cell_type": "markdown",
   "metadata": {},
   "source": [
    "We see now see how the model handles the survivorship bias, while still being a good fit for highly observed words"
   ]
  },
  {
   "cell_type": "code",
   "execution_count": 82,
   "metadata": {},
   "outputs": [
    {
     "data": {
      "text/plain": [
       "'\"The joint, or the region of the joint, by which the fore limb is connected with the body or with the shoulder girdle; the projection formed by the bones and muscles about that joint.\"'"
      ]
     },
     "execution_count": 82,
     "metadata": {},
     "output_type": "execute_result"
    }
   ],
   "source": [
    "df.iloc[1701][\"Definition\"]"
   ]
  },
  {
   "cell_type": "code",
   "execution_count": 83,
   "metadata": {},
   "outputs": [
    {
     "data": {
      "text/plain": [
       "Word                                                          shoulder\n",
       "Frequency                                                            1\n",
       "Definition           \"The joint, or the region of the joint, by whi...\n",
       "Rank                                                              1702\n",
       "Modeled_Frequency                                             0.185899\n",
       "Zipf_Fit                                                    563.979102\n",
       "Name: 1701, dtype: object"
      ]
     },
     "execution_count": 83,
     "metadata": {},
     "output_type": "execute_result"
    }
   ],
   "source": [
    "df.iloc[1701]"
   ]
  },
  {
   "cell_type": "code",
   "execution_count": 87,
   "metadata": {},
   "outputs": [
    {
     "data": {
      "text/plain": [
       "0.0001621796951021732"
      ]
     },
     "execution_count": 87,
     "metadata": {},
     "output_type": "execute_result"
    }
   ],
   "source": [
    "1 / M"
   ]
  },
  {
   "cell_type": "code",
   "execution_count": 88,
   "metadata": {},
   "outputs": [
    {
     "data": {
      "text/plain": [
       "5.209996479609511"
      ]
     },
     "execution_count": 88,
     "metadata": {},
     "output_type": "execute_result"
    }
   ],
   "source": [
    "np.log10(1_000_000 * (1 / M)) + 3"
   ]
  },
  {
   "cell_type": "code",
   "execution_count": 96,
   "metadata": {},
   "outputs": [
    {
     "data": {
      "text/plain": [
       "4.738913179887165"
      ]
     },
     "execution_count": 96,
     "metadata": {},
     "output_type": "execute_result"
    }
   ],
   "source": [
    "np.log10(1_000_000 * (0.338 / M)) + 3"
   ]
  },
  {
   "cell_type": "markdown",
   "metadata": {},
   "source": [
    "## Evaluation\n",
    "\n",
    "Comparing the frequency score before and after adjustment - we see strong improvements, The true Zipf score for \"shoulder\" is 4.462, and the adjusted version was much closer to that than our previous overestimate\n",
    "\n",
    "other examples' true score:\n",
    "\n",
    "\"sleeve\" : 3.882\t\n",
    "\n",
    "\"piece\" : 5.27\n",
    "\n",
    "\"gloom\" : 3.604\n",
    "\n",
    "In most of these cases the dowscore was beneficial, apart from \"piece\""
   ]
  },
  {
   "cell_type": "code",
   "execution_count": 98,
   "metadata": {},
   "outputs": [
    {
     "data": {
      "text/html": [
       "<div>\n",
       "<style scoped>\n",
       "    .dataframe tbody tr th:only-of-type {\n",
       "        vertical-align: middle;\n",
       "    }\n",
       "\n",
       "    .dataframe tbody tr th {\n",
       "        vertical-align: top;\n",
       "    }\n",
       "\n",
       "    .dataframe thead th {\n",
       "        text-align: right;\n",
       "    }\n",
       "</style>\n",
       "<table border=\"1\" class=\"dataframe\">\n",
       "  <thead>\n",
       "    <tr style=\"text-align: right;\">\n",
       "      <th></th>\n",
       "      <th>Word</th>\n",
       "      <th>Frequency</th>\n",
       "      <th>Definition</th>\n",
       "      <th>Rank</th>\n",
       "      <th>Modeled_Frequency</th>\n",
       "      <th>Zipf_Fit</th>\n",
       "      <th>Modeled_Frequency_Mean</th>\n",
       "    </tr>\n",
       "  </thead>\n",
       "  <tbody>\n",
       "    <tr>\n",
       "      <th>339</th>\n",
       "      <td>frozen</td>\n",
       "      <td>2</td>\n",
       "      <td>\"Congealed with cold; affected by freezing; as...</td>\n",
       "      <td>340</td>\n",
       "      <td>1.278741</td>\n",
       "      <td>344.043113</td>\n",
       "      <td>0.919099</td>\n",
       "    </tr>\n",
       "    <tr>\n",
       "      <th>340</th>\n",
       "      <td>float</td>\n",
       "      <td>2</td>\n",
       "      <td>To rest on the surface of any fluid; to swim; ...</td>\n",
       "      <td>341</td>\n",
       "      <td>1.274266</td>\n",
       "      <td>344.614865</td>\n",
       "      <td>0.919099</td>\n",
       "    </tr>\n",
       "    <tr>\n",
       "      <th>341</th>\n",
       "      <td>conclusion</td>\n",
       "      <td>2</td>\n",
       "      <td>Final decision; determination; result.</td>\n",
       "      <td>342</td>\n",
       "      <td>1.269819</td>\n",
       "      <td>345.184688</td>\n",
       "      <td>0.919099</td>\n",
       "    </tr>\n",
       "    <tr>\n",
       "      <th>342</th>\n",
       "      <td>arrive</td>\n",
       "      <td>2</td>\n",
       "      <td>\"To reach a point by progressive motion; to ga...</td>\n",
       "      <td>343</td>\n",
       "      <td>1.265400</td>\n",
       "      <td>345.752589</td>\n",
       "      <td>0.919099</td>\n",
       "    </tr>\n",
       "    <tr>\n",
       "      <th>343</th>\n",
       "      <td>series</td>\n",
       "      <td>2</td>\n",
       "      <td>\"A number of things or events standing or succ...</td>\n",
       "      <td>344</td>\n",
       "      <td>1.261009</td>\n",
       "      <td>346.318577</td>\n",
       "      <td>0.919099</td>\n",
       "    </tr>\n",
       "    <tr>\n",
       "      <th>...</th>\n",
       "      <td>...</td>\n",
       "      <td>...</td>\n",
       "      <td>...</td>\n",
       "      <td>...</td>\n",
       "      <td>...</td>\n",
       "      <td>...</td>\n",
       "      <td>...</td>\n",
       "    </tr>\n",
       "    <tr>\n",
       "      <th>575</th>\n",
       "      <td>way</td>\n",
       "      <td>2</td>\n",
       "      <td>Course or direction of motion or process; tend...</td>\n",
       "      <td>576</td>\n",
       "      <td>0.680933</td>\n",
       "      <td>439.561922</td>\n",
       "      <td>0.919099</td>\n",
       "    </tr>\n",
       "    <tr>\n",
       "      <th>576</th>\n",
       "      <td>consider</td>\n",
       "      <td>2</td>\n",
       "      <td>\"To fix the mind on, with a view to a careful ...</td>\n",
       "      <td>577</td>\n",
       "      <td>0.679521</td>\n",
       "      <td>439.844277</td>\n",
       "      <td>0.919099</td>\n",
       "    </tr>\n",
       "    <tr>\n",
       "      <th>577</th>\n",
       "      <td>really</td>\n",
       "      <td>2</td>\n",
       "      <td>In a real manner; with or in reality; actually...</td>\n",
       "      <td>578</td>\n",
       "      <td>0.678115</td>\n",
       "      <td>440.125892</td>\n",
       "      <td>0.919099</td>\n",
       "    </tr>\n",
       "    <tr>\n",
       "      <th>578</th>\n",
       "      <td>money</td>\n",
       "      <td>2</td>\n",
       "      <td>\"A piece of metal, as gold, silver, copper, et...</td>\n",
       "      <td>579</td>\n",
       "      <td>0.676713</td>\n",
       "      <td>440.406769</td>\n",
       "      <td>0.919099</td>\n",
       "    </tr>\n",
       "    <tr>\n",
       "      <th>579</th>\n",
       "      <td>what</td>\n",
       "      <td>2</td>\n",
       "      <td>\"Used adjectively, meaning how remarkable, or ...</td>\n",
       "      <td>580</td>\n",
       "      <td>0.675317</td>\n",
       "      <td>440.686911</td>\n",
       "      <td>0.919099</td>\n",
       "    </tr>\n",
       "  </tbody>\n",
       "</table>\n",
       "<p>241 rows × 7 columns</p>\n",
       "</div>"
      ],
      "text/plain": [
       "           Word  Frequency                                         Definition  \\\n",
       "339      frozen          2  \"Congealed with cold; affected by freezing; as...   \n",
       "340       float          2  To rest on the surface of any fluid; to swim; ...   \n",
       "341  conclusion          2             Final decision; determination; result.   \n",
       "342      arrive          2  \"To reach a point by progressive motion; to ga...   \n",
       "343      series          2  \"A number of things or events standing or succ...   \n",
       "..          ...        ...                                                ...   \n",
       "575         way          2  Course or direction of motion or process; tend...   \n",
       "576    consider          2  \"To fix the mind on, with a view to a careful ...   \n",
       "577      really          2  In a real manner; with or in reality; actually...   \n",
       "578       money          2  \"A piece of metal, as gold, silver, copper, et...   \n",
       "579        what          2  \"Used adjectively, meaning how remarkable, or ...   \n",
       "\n",
       "     Rank  Modeled_Frequency    Zipf_Fit  Modeled_Frequency_Mean  \n",
       "339   340           1.278741  344.043113                0.919099  \n",
       "340   341           1.274266  344.614865                0.919099  \n",
       "341   342           1.269819  345.184688                0.919099  \n",
       "342   343           1.265400  345.752589                0.919099  \n",
       "343   344           1.261009  346.318577                0.919099  \n",
       "..    ...                ...         ...                     ...  \n",
       "575   576           0.680933  439.561922                0.919099  \n",
       "576   577           0.679521  439.844277                0.919099  \n",
       "577   578           0.678115  440.125892                0.919099  \n",
       "578   579           0.676713  440.406769                0.919099  \n",
       "579   580           0.675317  440.686911                0.919099  \n",
       "\n",
       "[241 rows x 7 columns]"
      ]
     },
     "execution_count": 98,
     "metadata": {},
     "output_type": "execute_result"
    }
   ],
   "source": [
    "df[df[\"Frequency\"] == 2]"
   ]
  },
  {
   "cell_type": "code",
   "execution_count": 92,
   "metadata": {},
   "outputs": [
    {
     "data": {
      "text/plain": [
       "5.511026475273492"
      ]
     },
     "execution_count": 92,
     "metadata": {},
     "output_type": "execute_result"
    }
   ],
   "source": [
    "np.log10(1_000_000 * (2 / M)) + 3"
   ]
  },
  {
   "cell_type": "code",
   "execution_count": 99,
   "metadata": {},
   "outputs": [
    {
     "data": {
      "text/plain": [
       "5.173311990995622"
      ]
     },
     "execution_count": 99,
     "metadata": {},
     "output_type": "execute_result"
    }
   ],
   "source": [
    "np.log10(1_000_000 * (0.919 / M)) + 3"
   ]
  }
 ],
 "metadata": {
  "kernelspec": {
   "display_name": "WordSenseDisambiguation",
   "language": "python",
   "name": "wordsensedisambiguation"
  },
  "language_info": {
   "codemirror_mode": {
    "name": "ipython",
    "version": 3
   },
   "file_extension": ".py",
   "mimetype": "text/x-python",
   "name": "python",
   "nbconvert_exporter": "python",
   "pygments_lexer": "ipython3",
   "version": "3.12.3"
  }
 },
 "nbformat": 4,
 "nbformat_minor": 2
}
